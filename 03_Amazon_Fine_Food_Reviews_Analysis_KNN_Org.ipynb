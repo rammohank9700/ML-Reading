{
 "cells": [
  {
   "cell_type": "markdown",
   "metadata": {
    "colab_type": "text",
    "id": "8eACVv0YjiBh"
   },
   "source": [
    "# Amazon Fine Food Reviews Analysis\n",
    "\n",
    "\n",
    "Data Source: https://www.kaggle.com/snap/amazon-fine-food-reviews <br>\n",
    "\n",
    "EDA: https://nycdatascience.com/blog/student-works/amazon-fine-foods-visualization/\n",
    "\n",
    "\n",
    "The Amazon Fine Food Reviews dataset consists of reviews of fine foods from Amazon.<br>\n",
    "\n",
    "Number of reviews: 568,454<br>\n",
    "Number of users: 256,059<br>\n",
    "Number of products: 74,258<br>\n",
    "Timespan: Oct 1999 - Oct 2012<br>\n",
    "Number of Attributes/Columns in data: 10 \n",
    "\n",
    "Attribute Information:\n",
    "\n",
    "1. Id\n",
    "2. ProductId - unique identifier for the product\n",
    "3. UserId - unqiue identifier for the user\n",
    "4. ProfileName\n",
    "5. HelpfulnessNumerator - number of users who found the review helpful\n",
    "6. HelpfulnessDenominator - number of users who indicated whether they found the review helpful or not\n",
    "7. Score - rating between 1 and 5\n",
    "8. Time - timestamp for the review\n",
    "9. Summary - brief summary of the review\n",
    "10. Text - text of the review\n",
    "\n",
    "\n",
    "#### Objective:\n",
    "Given a review, determine whether the review is positive (rating of 4 or 5) or negative (rating of 1 or 2).\n",
    "\n",
    "<br>\n",
    "[Q] How to determine if a review is positive or negative?<br>\n",
    "<br> \n",
    "[Ans] We could use Score/Rating. A rating of 4 or 5 can be cosnidered as a positive review. A rating of 1 or 2 can be considered as negative one. A review of rating 3 is considered nuetral and such reviews are ignored from our analysis. This is an approximate and proxy way of determining the polarity (positivity/negativity) of a review.\n",
    "\n",
    "\n"
   ]
  },
  {
   "cell_type": "markdown",
   "metadata": {
    "colab_type": "text",
    "id": "lgNq2TzkjiBi"
   },
   "source": [
    "# [1]. Reading Data"
   ]
  },
  {
   "cell_type": "markdown",
   "metadata": {
    "colab_type": "text",
    "id": "zVZPrlEcjiBj"
   },
   "source": [
    "## [1.1] Loading the data\n",
    "\n",
    "The dataset is available in two forms\n",
    "1. .csv file\n",
    "2. SQLite Database\n",
    "\n",
    "In order to load the data, We have used the SQLITE dataset as it is easier to query the data and visualise the data efficiently.\n",
    "<br> \n",
    "\n",
    "Here as we only want to get the global sentiment of the recommendations (positive or negative), we will purposefully ignore all Scores equal to 3. If the score is above 3, then the recommendation wil be set to \"positive\". Otherwise, it will be set to \"negative\"."
   ]
  },
  {
   "cell_type": "code",
   "execution_count": 0,
   "metadata": {
    "colab": {},
    "colab_type": "code",
    "id": "FP9VwgAtjiBk"
   },
   "outputs": [],
   "source": [
    "%matplotlib inline\n",
    "import warnings\n",
    "warnings.filterwarnings(\"ignore\")\n",
    "\n",
    "\n",
    "import sqlite3\n",
    "import pandas as pd\n",
    "import numpy as np\n",
    "import nltk\n",
    "import string\n",
    "import matplotlib.pyplot as plt\n",
    "import seaborn as sns\n",
    "from sklearn.feature_extraction.text import TfidfTransformer\n",
    "from sklearn.feature_extraction.text import TfidfVectorizer\n",
    "from sklearn.model_selection import train_test_split\n",
    "\n",
    "from sklearn.feature_extraction.text import CountVectorizer\n",
    "from sklearn.metrics import confusion_matrix\n",
    "from sklearn import metrics\n",
    "from sklearn.metrics import roc_curve, auc\n",
    "from nltk.stem.porter import PorterStemmer\n",
    "\n",
    "import re\n",
    "# Tutorial about Python regular expressions: https://pymotw.com/2/re/\n",
    "import string\n",
    "from nltk.corpus import stopwords\n",
    "from nltk.stem import PorterStemmer\n",
    "from nltk.stem.wordnet import WordNetLemmatizer\n",
    "\n",
    "from gensim.models import Word2Vec\n",
    "from gensim.models import KeyedVectors\n",
    "import pickle\n",
    "\n",
    "from tqdm import tqdm\n",
    "import os"
   ]
  },
  {
   "cell_type": "code",
   "execution_count": 4,
   "metadata": {
    "colab": {
     "base_uri": "https://localhost:8080/",
     "height": 122
    },
    "colab_type": "code",
    "id": "yknSsXMylrr8",
    "outputId": "fc62554e-f8f7-48f7-d788-97078fc79e4e"
   },
   "outputs": [
    {
     "name": "stdout",
     "output_type": "stream",
     "text": [
      "Go to this URL in a browser: https://accounts.google.com/o/oauth2/auth?client_id=947318989803-6bn6qk8qdgf4n4g3pfee6491hc0brc4i.apps.googleusercontent.com&redirect_uri=urn%3Aietf%3Awg%3Aoauth%3A2.0%3Aoob&scope=email%20https%3A%2F%2Fwww.googleapis.com%2Fauth%2Fdocs.test%20https%3A%2F%2Fwww.googleapis.com%2Fauth%2Fdrive%20https%3A%2F%2Fwww.googleapis.com%2Fauth%2Fdrive.photos.readonly%20https%3A%2F%2Fwww.googleapis.com%2Fauth%2Fpeopleapi.readonly&response_type=code\n",
      "\n",
      "Enter your authorization code:\n",
      "··········\n",
      "Mounted at /content/drive\n"
     ]
    }
   ],
   "source": [
    "# need to mount with drive\n",
    "from google.colab import drive\n",
    "drive.mount('/content/drive')"
   ]
  },
  {
   "cell_type": "code",
   "execution_count": 5,
   "metadata": {
    "colab": {
     "base_uri": "https://localhost:8080/",
     "height": 244
    },
    "colab_type": "code",
    "id": "hAxA97Dw7GL4",
    "outputId": "65c6735b-4f18-413d-d5cb-22f2e82e48a0"
   },
   "outputs": [
    {
     "name": "stdout",
     "output_type": "stream",
     "text": [
      "Number of data points in our data (100000, 10)\n"
     ]
    },
    {
     "data": {
      "text/html": [
       "<div>\n",
       "<style scoped>\n",
       "    .dataframe tbody tr th:only-of-type {\n",
       "        vertical-align: middle;\n",
       "    }\n",
       "\n",
       "    .dataframe tbody tr th {\n",
       "        vertical-align: top;\n",
       "    }\n",
       "\n",
       "    .dataframe thead th {\n",
       "        text-align: right;\n",
       "    }\n",
       "</style>\n",
       "<table border=\"1\" class=\"dataframe\">\n",
       "  <thead>\n",
       "    <tr style=\"text-align: right;\">\n",
       "      <th></th>\n",
       "      <th>Id</th>\n",
       "      <th>ProductId</th>\n",
       "      <th>UserId</th>\n",
       "      <th>ProfileName</th>\n",
       "      <th>HelpfulnessNumerator</th>\n",
       "      <th>HelpfulnessDenominator</th>\n",
       "      <th>Score</th>\n",
       "      <th>Time</th>\n",
       "      <th>Summary</th>\n",
       "      <th>Text</th>\n",
       "    </tr>\n",
       "  </thead>\n",
       "  <tbody>\n",
       "    <tr>\n",
       "      <th>0</th>\n",
       "      <td>1</td>\n",
       "      <td>B001E4KFG0</td>\n",
       "      <td>A3SGXH7AUHU8GW</td>\n",
       "      <td>delmartian</td>\n",
       "      <td>1</td>\n",
       "      <td>1</td>\n",
       "      <td>1</td>\n",
       "      <td>1303862400</td>\n",
       "      <td>Good Quality Dog Food</td>\n",
       "      <td>I have bought several of the Vitality canned d...</td>\n",
       "    </tr>\n",
       "    <tr>\n",
       "      <th>1</th>\n",
       "      <td>2</td>\n",
       "      <td>B00813GRG4</td>\n",
       "      <td>A1D87F6ZCVE5NK</td>\n",
       "      <td>dll pa</td>\n",
       "      <td>0</td>\n",
       "      <td>0</td>\n",
       "      <td>0</td>\n",
       "      <td>1346976000</td>\n",
       "      <td>Not as Advertised</td>\n",
       "      <td>Product arrived labeled as Jumbo Salted Peanut...</td>\n",
       "    </tr>\n",
       "    <tr>\n",
       "      <th>2</th>\n",
       "      <td>3</td>\n",
       "      <td>B000LQOCH0</td>\n",
       "      <td>ABXLMWJIXXAIN</td>\n",
       "      <td>Natalia Corres \"Natalia Corres\"</td>\n",
       "      <td>1</td>\n",
       "      <td>1</td>\n",
       "      <td>1</td>\n",
       "      <td>1219017600</td>\n",
       "      <td>\"Delight\" says it all</td>\n",
       "      <td>This is a confection that has been around a fe...</td>\n",
       "    </tr>\n",
       "  </tbody>\n",
       "</table>\n",
       "</div>"
      ],
      "text/plain": [
       "   Id   ProductId          UserId                      ProfileName  \\\n",
       "0   1  B001E4KFG0  A3SGXH7AUHU8GW                       delmartian   \n",
       "1   2  B00813GRG4  A1D87F6ZCVE5NK                           dll pa   \n",
       "2   3  B000LQOCH0   ABXLMWJIXXAIN  Natalia Corres \"Natalia Corres\"   \n",
       "\n",
       "   HelpfulnessNumerator  HelpfulnessDenominator  Score        Time  \\\n",
       "0                     1                       1      1  1303862400   \n",
       "1                     0                       0      0  1346976000   \n",
       "2                     1                       1      1  1219017600   \n",
       "\n",
       "                 Summary                                               Text  \n",
       "0  Good Quality Dog Food  I have bought several of the Vitality canned d...  \n",
       "1      Not as Advertised  Product arrived labeled as Jumbo Salted Peanut...  \n",
       "2  \"Delight\" says it all  This is a confection that has been around a fe...  "
      ]
     },
     "execution_count": 5,
     "metadata": {
      "tags": []
     },
     "output_type": "execute_result"
    }
   ],
   "source": [
    "# using SQLite Table to read data.\n",
    "#while using with drive copy the path from copy path by right clicking the database.sqlite file \n",
    "con = sqlite3.connect('drive/My Drive/Colab Notebooks/Assign - 3/database.sqlite') \n",
    "\n",
    "filtered_data = pd.read_sql_query(\"\"\" SELECT * FROM Reviews WHERE Score != 3 LIMIT 100000  \"\"\", con) \n",
    "\n",
    "def partition(x):\n",
    "    if x < 3:\n",
    "        return 0\n",
    "    return 1\n",
    "\n",
    "#changing reviews with score less than 3 to be positive and vice-versa\n",
    "actualScore = filtered_data['Score']\n",
    "positiveNegative = actualScore.map(partition) \n",
    "filtered_data['Score'] = positiveNegative\n",
    "print(\"Number of data points in our data\", filtered_data.shape)\n",
    "filtered_data.head(3)"
   ]
  },
  {
   "cell_type": "code",
   "execution_count": 0,
   "metadata": {
    "colab": {},
    "colab_type": "code",
    "id": "ewOtdrFwjiBt"
   },
   "outputs": [],
   "source": [
    "display = pd.read_sql_query(\"\"\"\n",
    "SELECT UserId, ProductId, ProfileName, Time, Score, Text, COUNT(*)\n",
    "FROM Reviews\n",
    "GROUP BY UserId\n",
    "HAVING COUNT(*)>1\n",
    "\"\"\", con)"
   ]
  },
  {
   "cell_type": "code",
   "execution_count": 7,
   "metadata": {
    "colab": {
     "base_uri": "https://localhost:8080/",
     "height": 221
    },
    "colab_type": "code",
    "id": "gN5qhgBDjiBw",
    "outputId": "c2945793-3672-4246-a18f-fd4cc8410794",
    "scrolled": true
   },
   "outputs": [
    {
     "name": "stdout",
     "output_type": "stream",
     "text": [
      "(80668, 7)\n"
     ]
    },
    {
     "data": {
      "text/html": [
       "<div>\n",
       "<style scoped>\n",
       "    .dataframe tbody tr th:only-of-type {\n",
       "        vertical-align: middle;\n",
       "    }\n",
       "\n",
       "    .dataframe tbody tr th {\n",
       "        vertical-align: top;\n",
       "    }\n",
       "\n",
       "    .dataframe thead th {\n",
       "        text-align: right;\n",
       "    }\n",
       "</style>\n",
       "<table border=\"1\" class=\"dataframe\">\n",
       "  <thead>\n",
       "    <tr style=\"text-align: right;\">\n",
       "      <th></th>\n",
       "      <th>UserId</th>\n",
       "      <th>ProductId</th>\n",
       "      <th>ProfileName</th>\n",
       "      <th>Time</th>\n",
       "      <th>Score</th>\n",
       "      <th>Text</th>\n",
       "      <th>COUNT(*)</th>\n",
       "    </tr>\n",
       "  </thead>\n",
       "  <tbody>\n",
       "    <tr>\n",
       "      <th>0</th>\n",
       "      <td>#oc-R115TNMSPFT9I7</td>\n",
       "      <td>B007Y59HVM</td>\n",
       "      <td>Breyton</td>\n",
       "      <td>1331510400</td>\n",
       "      <td>2</td>\n",
       "      <td>Overall its just OK when considering the price...</td>\n",
       "      <td>2</td>\n",
       "    </tr>\n",
       "    <tr>\n",
       "      <th>1</th>\n",
       "      <td>#oc-R11D9D7SHXIJB9</td>\n",
       "      <td>B005HG9ET0</td>\n",
       "      <td>Louis E. Emory \"hoppy\"</td>\n",
       "      <td>1342396800</td>\n",
       "      <td>5</td>\n",
       "      <td>My wife has recurring extreme muscle spasms, u...</td>\n",
       "      <td>3</td>\n",
       "    </tr>\n",
       "    <tr>\n",
       "      <th>2</th>\n",
       "      <td>#oc-R11DNU2NBKQ23Z</td>\n",
       "      <td>B007Y59HVM</td>\n",
       "      <td>Kim Cieszykowski</td>\n",
       "      <td>1348531200</td>\n",
       "      <td>1</td>\n",
       "      <td>This coffee is horrible and unfortunately not ...</td>\n",
       "      <td>2</td>\n",
       "    </tr>\n",
       "    <tr>\n",
       "      <th>3</th>\n",
       "      <td>#oc-R11O5J5ZVQE25C</td>\n",
       "      <td>B005HG9ET0</td>\n",
       "      <td>Penguin Chick</td>\n",
       "      <td>1346889600</td>\n",
       "      <td>5</td>\n",
       "      <td>This will be the bottle that you grab from the...</td>\n",
       "      <td>3</td>\n",
       "    </tr>\n",
       "    <tr>\n",
       "      <th>4</th>\n",
       "      <td>#oc-R12KPBODL2B5ZD</td>\n",
       "      <td>B007OSBE1U</td>\n",
       "      <td>Christopher P. Presta</td>\n",
       "      <td>1348617600</td>\n",
       "      <td>1</td>\n",
       "      <td>I didnt like this coffee. Instead of telling y...</td>\n",
       "      <td>2</td>\n",
       "    </tr>\n",
       "  </tbody>\n",
       "</table>\n",
       "</div>"
      ],
      "text/plain": [
       "               UserId   ProductId             ProfileName        Time  Score  \\\n",
       "0  #oc-R115TNMSPFT9I7  B007Y59HVM                 Breyton  1331510400      2   \n",
       "1  #oc-R11D9D7SHXIJB9  B005HG9ET0  Louis E. Emory \"hoppy\"  1342396800      5   \n",
       "2  #oc-R11DNU2NBKQ23Z  B007Y59HVM        Kim Cieszykowski  1348531200      1   \n",
       "3  #oc-R11O5J5ZVQE25C  B005HG9ET0           Penguin Chick  1346889600      5   \n",
       "4  #oc-R12KPBODL2B5ZD  B007OSBE1U   Christopher P. Presta  1348617600      1   \n",
       "\n",
       "                                                Text  COUNT(*)  \n",
       "0  Overall its just OK when considering the price...         2  \n",
       "1  My wife has recurring extreme muscle spasms, u...         3  \n",
       "2  This coffee is horrible and unfortunately not ...         2  \n",
       "3  This will be the bottle that you grab from the...         3  \n",
       "4  I didnt like this coffee. Instead of telling y...         2  "
      ]
     },
     "execution_count": 7,
     "metadata": {
      "tags": []
     },
     "output_type": "execute_result"
    }
   ],
   "source": [
    "print(display.shape)\n",
    "display.head()"
   ]
  },
  {
   "cell_type": "code",
   "execution_count": 8,
   "metadata": {
    "colab": {
     "base_uri": "https://localhost:8080/",
     "height": 80
    },
    "colab_type": "code",
    "id": "JZ_fYMa5jiB1",
    "outputId": "8b68bfe1-a3b1-4c56-efc8-5e2018af964f"
   },
   "outputs": [
    {
     "data": {
      "text/html": [
       "<div>\n",
       "<style scoped>\n",
       "    .dataframe tbody tr th:only-of-type {\n",
       "        vertical-align: middle;\n",
       "    }\n",
       "\n",
       "    .dataframe tbody tr th {\n",
       "        vertical-align: top;\n",
       "    }\n",
       "\n",
       "    .dataframe thead th {\n",
       "        text-align: right;\n",
       "    }\n",
       "</style>\n",
       "<table border=\"1\" class=\"dataframe\">\n",
       "  <thead>\n",
       "    <tr style=\"text-align: right;\">\n",
       "      <th></th>\n",
       "      <th>UserId</th>\n",
       "      <th>ProductId</th>\n",
       "      <th>ProfileName</th>\n",
       "      <th>Time</th>\n",
       "      <th>Score</th>\n",
       "      <th>Text</th>\n",
       "      <th>COUNT(*)</th>\n",
       "    </tr>\n",
       "  </thead>\n",
       "  <tbody>\n",
       "    <tr>\n",
       "      <th>80638</th>\n",
       "      <td>AZY10LLTJ71NX</td>\n",
       "      <td>B006P7E5ZI</td>\n",
       "      <td>undertheshrine \"undertheshrine\"</td>\n",
       "      <td>1334707200</td>\n",
       "      <td>5</td>\n",
       "      <td>I was recommended to try green tea extract to ...</td>\n",
       "      <td>5</td>\n",
       "    </tr>\n",
       "  </tbody>\n",
       "</table>\n",
       "</div>"
      ],
      "text/plain": [
       "              UserId   ProductId                      ProfileName        Time  \\\n",
       "80638  AZY10LLTJ71NX  B006P7E5ZI  undertheshrine \"undertheshrine\"  1334707200   \n",
       "\n",
       "       Score                                               Text  COUNT(*)  \n",
       "80638      5  I was recommended to try green tea extract to ...         5  "
      ]
     },
     "execution_count": 8,
     "metadata": {
      "tags": []
     },
     "output_type": "execute_result"
    }
   ],
   "source": [
    "display[display['UserId']=='AZY10LLTJ71NX']"
   ]
  },
  {
   "cell_type": "code",
   "execution_count": 9,
   "metadata": {
    "colab": {
     "base_uri": "https://localhost:8080/",
     "height": 34
    },
    "colab_type": "code",
    "id": "vPA9XTntjiB4",
    "outputId": "b7b1e957-d665-4ac3-bf55-84e296b2274e"
   },
   "outputs": [
    {
     "data": {
      "text/plain": [
       "393063"
      ]
     },
     "execution_count": 9,
     "metadata": {
      "tags": []
     },
     "output_type": "execute_result"
    }
   ],
   "source": [
    "display['COUNT(*)'].sum()"
   ]
  },
  {
   "cell_type": "markdown",
   "metadata": {
    "colab_type": "text",
    "id": "RXZO-2cIjiB7"
   },
   "source": [
    "#  [2] Exploratory Data Analysis"
   ]
  },
  {
   "cell_type": "markdown",
   "metadata": {
    "colab_type": "text",
    "id": "0oZKKM4RjiB8"
   },
   "source": [
    "## [2.1] Data Cleaning: Deduplication\n",
    "\n",
    "It is observed (as shown in the table below) that the reviews data had many duplicate entries. Hence it was necessary to remove duplicates in order to get unbiased results for the analysis of the data.  Following is an example:"
   ]
  },
  {
   "cell_type": "code",
   "execution_count": 10,
   "metadata": {
    "colab": {
     "base_uri": "https://localhost:8080/",
     "height": 459
    },
    "colab_type": "code",
    "id": "UY-pXZWTjiB9",
    "outputId": "f6dfd326-de6f-489e-f639-383730e7a517",
    "scrolled": false
   },
   "outputs": [
    {
     "data": {
      "text/html": [
       "<div>\n",
       "<style scoped>\n",
       "    .dataframe tbody tr th:only-of-type {\n",
       "        vertical-align: middle;\n",
       "    }\n",
       "\n",
       "    .dataframe tbody tr th {\n",
       "        vertical-align: top;\n",
       "    }\n",
       "\n",
       "    .dataframe thead th {\n",
       "        text-align: right;\n",
       "    }\n",
       "</style>\n",
       "<table border=\"1\" class=\"dataframe\">\n",
       "  <thead>\n",
       "    <tr style=\"text-align: right;\">\n",
       "      <th></th>\n",
       "      <th>Id</th>\n",
       "      <th>ProductId</th>\n",
       "      <th>UserId</th>\n",
       "      <th>ProfileName</th>\n",
       "      <th>HelpfulnessNumerator</th>\n",
       "      <th>HelpfulnessDenominator</th>\n",
       "      <th>Score</th>\n",
       "      <th>Time</th>\n",
       "      <th>Summary</th>\n",
       "      <th>Text</th>\n",
       "    </tr>\n",
       "  </thead>\n",
       "  <tbody>\n",
       "    <tr>\n",
       "      <th>0</th>\n",
       "      <td>78445</td>\n",
       "      <td>B000HDL1RQ</td>\n",
       "      <td>AR5J8UI46CURR</td>\n",
       "      <td>Geetha Krishnan</td>\n",
       "      <td>2</td>\n",
       "      <td>2</td>\n",
       "      <td>5</td>\n",
       "      <td>1199577600</td>\n",
       "      <td>LOACKER QUADRATINI VANILLA WAFERS</td>\n",
       "      <td>DELICIOUS WAFERS. I FIND THAT EUROPEAN WAFERS ...</td>\n",
       "    </tr>\n",
       "    <tr>\n",
       "      <th>1</th>\n",
       "      <td>138317</td>\n",
       "      <td>B000HDOPYC</td>\n",
       "      <td>AR5J8UI46CURR</td>\n",
       "      <td>Geetha Krishnan</td>\n",
       "      <td>2</td>\n",
       "      <td>2</td>\n",
       "      <td>5</td>\n",
       "      <td>1199577600</td>\n",
       "      <td>LOACKER QUADRATINI VANILLA WAFERS</td>\n",
       "      <td>DELICIOUS WAFERS. I FIND THAT EUROPEAN WAFERS ...</td>\n",
       "    </tr>\n",
       "    <tr>\n",
       "      <th>2</th>\n",
       "      <td>138277</td>\n",
       "      <td>B000HDOPYM</td>\n",
       "      <td>AR5J8UI46CURR</td>\n",
       "      <td>Geetha Krishnan</td>\n",
       "      <td>2</td>\n",
       "      <td>2</td>\n",
       "      <td>5</td>\n",
       "      <td>1199577600</td>\n",
       "      <td>LOACKER QUADRATINI VANILLA WAFERS</td>\n",
       "      <td>DELICIOUS WAFERS. I FIND THAT EUROPEAN WAFERS ...</td>\n",
       "    </tr>\n",
       "    <tr>\n",
       "      <th>3</th>\n",
       "      <td>73791</td>\n",
       "      <td>B000HDOPZG</td>\n",
       "      <td>AR5J8UI46CURR</td>\n",
       "      <td>Geetha Krishnan</td>\n",
       "      <td>2</td>\n",
       "      <td>2</td>\n",
       "      <td>5</td>\n",
       "      <td>1199577600</td>\n",
       "      <td>LOACKER QUADRATINI VANILLA WAFERS</td>\n",
       "      <td>DELICIOUS WAFERS. I FIND THAT EUROPEAN WAFERS ...</td>\n",
       "    </tr>\n",
       "    <tr>\n",
       "      <th>4</th>\n",
       "      <td>155049</td>\n",
       "      <td>B000PAQ75C</td>\n",
       "      <td>AR5J8UI46CURR</td>\n",
       "      <td>Geetha Krishnan</td>\n",
       "      <td>2</td>\n",
       "      <td>2</td>\n",
       "      <td>5</td>\n",
       "      <td>1199577600</td>\n",
       "      <td>LOACKER QUADRATINI VANILLA WAFERS</td>\n",
       "      <td>DELICIOUS WAFERS. I FIND THAT EUROPEAN WAFERS ...</td>\n",
       "    </tr>\n",
       "  </tbody>\n",
       "</table>\n",
       "</div>"
      ],
      "text/plain": [
       "       Id   ProductId         UserId      ProfileName  HelpfulnessNumerator  \\\n",
       "0   78445  B000HDL1RQ  AR5J8UI46CURR  Geetha Krishnan                     2   \n",
       "1  138317  B000HDOPYC  AR5J8UI46CURR  Geetha Krishnan                     2   \n",
       "2  138277  B000HDOPYM  AR5J8UI46CURR  Geetha Krishnan                     2   \n",
       "3   73791  B000HDOPZG  AR5J8UI46CURR  Geetha Krishnan                     2   \n",
       "4  155049  B000PAQ75C  AR5J8UI46CURR  Geetha Krishnan                     2   \n",
       "\n",
       "   HelpfulnessDenominator  Score        Time  \\\n",
       "0                       2      5  1199577600   \n",
       "1                       2      5  1199577600   \n",
       "2                       2      5  1199577600   \n",
       "3                       2      5  1199577600   \n",
       "4                       2      5  1199577600   \n",
       "\n",
       "                             Summary  \\\n",
       "0  LOACKER QUADRATINI VANILLA WAFERS   \n",
       "1  LOACKER QUADRATINI VANILLA WAFERS   \n",
       "2  LOACKER QUADRATINI VANILLA WAFERS   \n",
       "3  LOACKER QUADRATINI VANILLA WAFERS   \n",
       "4  LOACKER QUADRATINI VANILLA WAFERS   \n",
       "\n",
       "                                                Text  \n",
       "0  DELICIOUS WAFERS. I FIND THAT EUROPEAN WAFERS ...  \n",
       "1  DELICIOUS WAFERS. I FIND THAT EUROPEAN WAFERS ...  \n",
       "2  DELICIOUS WAFERS. I FIND THAT EUROPEAN WAFERS ...  \n",
       "3  DELICIOUS WAFERS. I FIND THAT EUROPEAN WAFERS ...  \n",
       "4  DELICIOUS WAFERS. I FIND THAT EUROPEAN WAFERS ...  "
      ]
     },
     "execution_count": 10,
     "metadata": {
      "tags": []
     },
     "output_type": "execute_result"
    }
   ],
   "source": [
    "display= pd.read_sql_query(\"\"\"\n",
    "SELECT *\n",
    "FROM Reviews\n",
    "WHERE Score != 3 AND UserId=\"AR5J8UI46CURR\"\n",
    "ORDER BY ProductID\n",
    "\"\"\", con)\n",
    "display.head()"
   ]
  },
  {
   "cell_type": "markdown",
   "metadata": {
    "colab_type": "text",
    "id": "p_oIlCBxjiCA"
   },
   "source": [
    "As it can be seen above that same user has multiple reviews with same values for HelpfulnessNumerator, HelpfulnessDenominator, Score, Time, Summary and Text and on doing analysis it was found that <br>\n",
    "<br> \n",
    "ProductId=B000HDOPZG was Loacker Quadratini Vanilla Wafer Cookies, 8.82-Ounce Packages (Pack of 8)<br>\n",
    "<br> \n",
    "ProductId=B000HDL1RQ was Loacker Quadratini Lemon Wafer Cookies, 8.82-Ounce Packages (Pack of 8) and so on<br>\n",
    "\n",
    "It was inferred after analysis that reviews with same parameters other than ProductId belonged to the same product just having different flavour or quantity. Hence in order to reduce redundancy it was decided to eliminate the rows having same parameters.<br>\n",
    "\n",
    "The method used for the same was that we first sort the data according to ProductId and then just keep the first similar product review and delelte the others. for eg. in the above just the review for ProductId=B000HDL1RQ remains. This method ensures that there is only one representative for each product and deduplication without sorting would lead to possibility of different representatives still existing for the same product."
   ]
  },
  {
   "cell_type": "code",
   "execution_count": 0,
   "metadata": {
    "colab": {},
    "colab_type": "code",
    "id": "yDKV38YQjiCB"
   },
   "outputs": [],
   "source": [
    "#Sorting data according to ProductId in ascending order\n",
    "sorted_data=filtered_data.sort_values('ProductId', axis=0, ascending=True, inplace=False, kind='quicksort', na_position='last')"
   ]
  },
  {
   "cell_type": "code",
   "execution_count": 12,
   "metadata": {
    "colab": {
     "base_uri": "https://localhost:8080/",
     "height": 34
    },
    "colab_type": "code",
    "id": "_LF1QsWFjiCD",
    "outputId": "1cdfac74-bef1-457d-d4b8-80ff88a188e5"
   },
   "outputs": [
    {
     "data": {
      "text/plain": [
       "(87775, 10)"
      ]
     },
     "execution_count": 12,
     "metadata": {
      "tags": []
     },
     "output_type": "execute_result"
    }
   ],
   "source": [
    "#Deduplication of entries\n",
    "final=sorted_data.drop_duplicates(subset={\"UserId\",\"ProfileName\",\"Time\",\"Text\"}, keep='first', inplace=False)\n",
    "final.shape"
   ]
  },
  {
   "cell_type": "code",
   "execution_count": 13,
   "metadata": {
    "colab": {
     "base_uri": "https://localhost:8080/",
     "height": 34
    },
    "colab_type": "code",
    "id": "gbMgl2zJjiCH",
    "outputId": "6694b04f-1aa9-4462-b5aa-f2215f87175c"
   },
   "outputs": [
    {
     "data": {
      "text/plain": [
       "87.775"
      ]
     },
     "execution_count": 13,
     "metadata": {
      "tags": []
     },
     "output_type": "execute_result"
    }
   ],
   "source": [
    "#Checking to see how much % of data still remains\n",
    "(final['Id'].size*1.0)/(filtered_data['Id'].size*1.0)*100"
   ]
  },
  {
   "cell_type": "markdown",
   "metadata": {
    "colab_type": "text",
    "id": "Cy1ulxC_jiCO"
   },
   "source": [
    "<b>Observation:-</b> It was also seen that in two rows given below the value of HelpfulnessNumerator is greater than HelpfulnessDenominator which is not practically possible hence these two rows too are removed from calcualtions"
   ]
  },
  {
   "cell_type": "code",
   "execution_count": 14,
   "metadata": {
    "colab": {
     "base_uri": "https://localhost:8080/",
     "height": 179
    },
    "colab_type": "code",
    "id": "WVeLVwpWjiCP",
    "outputId": "50cc77eb-2b64-48c6-f27b-5d6aad853c8c"
   },
   "outputs": [
    {
     "data": {
      "text/html": [
       "<div>\n",
       "<style scoped>\n",
       "    .dataframe tbody tr th:only-of-type {\n",
       "        vertical-align: middle;\n",
       "    }\n",
       "\n",
       "    .dataframe tbody tr th {\n",
       "        vertical-align: top;\n",
       "    }\n",
       "\n",
       "    .dataframe thead th {\n",
       "        text-align: right;\n",
       "    }\n",
       "</style>\n",
       "<table border=\"1\" class=\"dataframe\">\n",
       "  <thead>\n",
       "    <tr style=\"text-align: right;\">\n",
       "      <th></th>\n",
       "      <th>Id</th>\n",
       "      <th>ProductId</th>\n",
       "      <th>UserId</th>\n",
       "      <th>ProfileName</th>\n",
       "      <th>HelpfulnessNumerator</th>\n",
       "      <th>HelpfulnessDenominator</th>\n",
       "      <th>Score</th>\n",
       "      <th>Time</th>\n",
       "      <th>Summary</th>\n",
       "      <th>Text</th>\n",
       "    </tr>\n",
       "  </thead>\n",
       "  <tbody>\n",
       "    <tr>\n",
       "      <th>0</th>\n",
       "      <td>64422</td>\n",
       "      <td>B000MIDROQ</td>\n",
       "      <td>A161DK06JJMCYF</td>\n",
       "      <td>J. E. Stephens \"Jeanne\"</td>\n",
       "      <td>3</td>\n",
       "      <td>1</td>\n",
       "      <td>5</td>\n",
       "      <td>1224892800</td>\n",
       "      <td>Bought This for My Son at College</td>\n",
       "      <td>My son loves spaghetti so I didn't hesitate or...</td>\n",
       "    </tr>\n",
       "    <tr>\n",
       "      <th>1</th>\n",
       "      <td>44737</td>\n",
       "      <td>B001EQ55RW</td>\n",
       "      <td>A2V0I904FH7ABY</td>\n",
       "      <td>Ram</td>\n",
       "      <td>3</td>\n",
       "      <td>2</td>\n",
       "      <td>4</td>\n",
       "      <td>1212883200</td>\n",
       "      <td>Pure cocoa taste with crunchy almonds inside</td>\n",
       "      <td>It was almost a 'love at first bite' - the per...</td>\n",
       "    </tr>\n",
       "  </tbody>\n",
       "</table>\n",
       "</div>"
      ],
      "text/plain": [
       "      Id   ProductId          UserId              ProfileName  \\\n",
       "0  64422  B000MIDROQ  A161DK06JJMCYF  J. E. Stephens \"Jeanne\"   \n",
       "1  44737  B001EQ55RW  A2V0I904FH7ABY                      Ram   \n",
       "\n",
       "   HelpfulnessNumerator  HelpfulnessDenominator  Score        Time  \\\n",
       "0                     3                       1      5  1224892800   \n",
       "1                     3                       2      4  1212883200   \n",
       "\n",
       "                                        Summary  \\\n",
       "0             Bought This for My Son at College   \n",
       "1  Pure cocoa taste with crunchy almonds inside   \n",
       "\n",
       "                                                Text  \n",
       "0  My son loves spaghetti so I didn't hesitate or...  \n",
       "1  It was almost a 'love at first bite' - the per...  "
      ]
     },
     "execution_count": 14,
     "metadata": {
      "tags": []
     },
     "output_type": "execute_result"
    }
   ],
   "source": [
    "display= pd.read_sql_query(\"\"\"\n",
    "SELECT *\n",
    "FROM Reviews\n",
    "WHERE Score != 3 AND Id=44737 OR Id=64422\n",
    "ORDER BY ProductID\n",
    "\"\"\", con)\n",
    "\n",
    "display.head()"
   ]
  },
  {
   "cell_type": "code",
   "execution_count": 0,
   "metadata": {
    "colab": {},
    "colab_type": "code",
    "id": "V7obSjCfjiCb"
   },
   "outputs": [],
   "source": [
    "final=final[final.HelpfulnessNumerator<=final.HelpfulnessDenominator]"
   ]
  },
  {
   "cell_type": "code",
   "execution_count": 16,
   "metadata": {
    "colab": {
     "base_uri": "https://localhost:8080/",
     "height": 85
    },
    "colab_type": "code",
    "id": "F5eMvwwpjiCh",
    "outputId": "8e0a2b82-a323-46f0-8527-5241f88a3653"
   },
   "outputs": [
    {
     "name": "stdout",
     "output_type": "stream",
     "text": [
      "(87773, 10)\n"
     ]
    },
    {
     "data": {
      "text/plain": [
       "1    73592\n",
       "0    14181\n",
       "Name: Score, dtype: int64"
      ]
     },
     "execution_count": 16,
     "metadata": {
      "tags": []
     },
     "output_type": "execute_result"
    }
   ],
   "source": [
    "#Before starting the next phase of preprocessing lets see the number of entries left\n",
    "print(final.shape)\n",
    "\n",
    "#How many positive and negative reviews are present in our dataset?\n",
    "final['Score'].value_counts()"
   ]
  },
  {
   "cell_type": "markdown",
   "metadata": {
    "colab_type": "text",
    "id": "utVV_JVgjiCp"
   },
   "source": [
    "#  [3] Preprocessing"
   ]
  },
  {
   "cell_type": "markdown",
   "metadata": {
    "colab_type": "text",
    "id": "jIP8xZx8jiCu"
   },
   "source": [
    "## [3.1].  Preprocessing Review Text\n",
    "\n",
    "Now that we have finished deduplication our data requires some preprocessing before we go on further with analysis and making the prediction model.\n",
    "\n",
    "Hence in the Preprocessing phase we do the following in the order below:-\n",
    "\n",
    "1. Begin by removing the html tags\n",
    "2. Remove any punctuations or limited set of special characters like , or . or # etc.\n",
    "3. Check if the word is made up of english letters and is not alpha-numeric\n",
    "4. Check to see if the length of the word is greater than 2 (as it was researched that there is no adjective in 2-letters)\n",
    "5. Convert the word to lowercase\n",
    "6. Remove Stopwords\n",
    "7. Finally Snowball Stemming the word (it was obsereved to be better than Porter Stemming)<br>\n",
    "\n",
    "After which we collect the words used to describe positive and negative reviews"
   ]
  },
  {
   "cell_type": "code",
   "execution_count": 17,
   "metadata": {
    "colab": {
     "base_uri": "https://localhost:8080/",
     "height": 173
    },
    "colab_type": "code",
    "id": "7mF2BeHsjiCw",
    "outputId": "9dabb8f6-2531-48ff-b61c-8a34c5810e49"
   },
   "outputs": [
    {
     "name": "stdout",
     "output_type": "stream",
     "text": [
      "My dogs loves this chicken but its a product from China, so we wont be buying it anymore.  Its very hard to find any chicken products made in the USA but they are out there, but this one isnt.  Its too bad too because its a good product but I wont take any chances till they know what is going on with the china imports.\n",
      "==================================================\n",
      "The Candy Blocks were a nice visual for the Lego Birthday party but the candy has little taste to it.  Very little of the 2 lbs that I bought were eaten and I threw the rest away.  I would not buy the candy again.\n",
      "==================================================\n",
      "was way to hot for my blood, took a bite and did a jig  lol\n",
      "==================================================\n",
      "My dog LOVES these treats. They tend to have a very strong fish oil smell. So if you are afraid of the fishy smell, don't get it. But I think my dog likes it because of the smell. These treats are really small in size. They are great for training. You can give your dog several of these without worrying about him over eating. Amazon's price was much more reasonable than any other retailer. You can buy a 1 pound bag on Amazon for almost the same price as a 6 ounce bag at other retailers. It's definitely worth it to buy a big bag if your dog eats them a lot.\n",
      "==================================================\n"
     ]
    }
   ],
   "source": [
    "# printing some random reviews\n",
    "sent_0 = final['Text'].values[0]\n",
    "print(sent_0)\n",
    "print(\"=\"*50)\n",
    "\n",
    "sent_1000 = final['Text'].values[1000]\n",
    "print(sent_1000)\n",
    "print(\"=\"*50)\n",
    "\n",
    "sent_1500 = final['Text'].values[1500]\n",
    "print(sent_1500)\n",
    "print(\"=\"*50)\n",
    "\n",
    "sent_4900 = final['Text'].values[4900]\n",
    "print(sent_4900)\n",
    "print(\"=\"*50)"
   ]
  },
  {
   "cell_type": "code",
   "execution_count": 18,
   "metadata": {
    "colab": {
     "base_uri": "https://localhost:8080/",
     "height": 54
    },
    "colab_type": "code",
    "id": "E4X83IWSjiC6",
    "outputId": "bbfeee40-82e1-495c-eaf2-b6257b45fe13"
   },
   "outputs": [
    {
     "name": "stdout",
     "output_type": "stream",
     "text": [
      "My dogs loves this chicken but its a product from China, so we wont be buying it anymore.  Its very hard to find any chicken products made in the USA but they are out there, but this one isnt.  Its too bad too because its a good product but I wont take any chances till they know what is going on with the china imports.\n"
     ]
    }
   ],
   "source": [
    "# remove urls from text python: https://stackoverflow.com/a/40823105/4084039\n",
    "sent_0 = re.sub(r\"http\\S+\", \"\", sent_0)\n",
    "sent_1000 = re.sub(r\"http\\S+\", \"\", sent_1000)\n",
    "sent_150 = re.sub(r\"http\\S+\", \"\", sent_1500)\n",
    "sent_4900 = re.sub(r\"http\\S+\", \"\", sent_4900)\n",
    "\n",
    "print(sent_0)"
   ]
  },
  {
   "cell_type": "code",
   "execution_count": 19,
   "metadata": {
    "colab": {
     "base_uri": "https://localhost:8080/",
     "height": 156
    },
    "colab_type": "code",
    "id": "gM62xXHFjiC_",
    "outputId": "4ae4b8a4-0f29-45db-9543-2350368071ec"
   },
   "outputs": [
    {
     "name": "stdout",
     "output_type": "stream",
     "text": [
      "My dogs loves this chicken but its a product from China, so we wont be buying it anymore.  Its very hard to find any chicken products made in the USA but they are out there, but this one isnt.  Its too bad too because its a good product but I wont take any chances till they know what is going on with the china imports.\n",
      "==================================================\n",
      "The Candy Blocks were a nice visual for the Lego Birthday party but the candy has little taste to it.  Very little of the 2 lbs that I bought were eaten and I threw the rest away.  I would not buy the candy again.\n",
      "==================================================\n",
      "was way to hot for my blood, took a bite and did a jig  lol\n",
      "==================================================\n",
      "My dog LOVES these treats. They tend to have a very strong fish oil smell. So if you are afraid of the fishy smell, don't get it. But I think my dog likes it because of the smell. These treats are really small in size. They are great for training. You can give your dog several of these without worrying about him over eating. Amazon's price was much more reasonable than any other retailer. You can buy a 1 pound bag on Amazon for almost the same price as a 6 ounce bag at other retailers. It's definitely worth it to buy a big bag if your dog eats them a lot.\n"
     ]
    }
   ],
   "source": [
    "# https://stackoverflow.com/questions/16206380/python-beautifulsoup-how-to-remove-all-tags-from-an-element\n",
    "from bs4 import BeautifulSoup\n",
    "\n",
    "soup = BeautifulSoup(sent_0, 'lxml')\n",
    "text = soup.get_text()\n",
    "print(text)\n",
    "print(\"=\"*50)\n",
    "\n",
    "soup = BeautifulSoup(sent_1000, 'lxml')\n",
    "text = soup.get_text()\n",
    "print(text)\n",
    "print(\"=\"*50)\n",
    "\n",
    "soup = BeautifulSoup(sent_1500, 'lxml')\n",
    "text = soup.get_text()\n",
    "print(text)\n",
    "print(\"=\"*50)\n",
    "\n",
    "soup = BeautifulSoup(sent_4900, 'lxml')\n",
    "text = soup.get_text()\n",
    "print(text)"
   ]
  },
  {
   "cell_type": "code",
   "execution_count": 0,
   "metadata": {
    "colab": {},
    "colab_type": "code",
    "id": "YayTFExjjiDD"
   },
   "outputs": [],
   "source": [
    "# https://stackoverflow.com/a/47091490/4084039\n",
    "import re\n",
    "\n",
    "def decontracted(phrase):\n",
    "    # specific\n",
    "    phrase = re.sub(r\"won't\", \"will not\", phrase)\n",
    "    phrase = re.sub(r\"can\\'t\", \"can not\", phrase)\n",
    "\n",
    "    # general\n",
    "    phrase = re.sub(r\"n\\'t\", \" not\", phrase)\n",
    "    phrase = re.sub(r\"\\'re\", \" are\", phrase)\n",
    "    phrase = re.sub(r\"\\'s\", \" is\", phrase)\n",
    "    phrase = re.sub(r\"\\'d\", \" would\", phrase)\n",
    "    phrase = re.sub(r\"\\'ll\", \" will\", phrase)\n",
    "    phrase = re.sub(r\"\\'t\", \" not\", phrase)\n",
    "    phrase = re.sub(r\"\\'ve\", \" have\", phrase)\n",
    "    phrase = re.sub(r\"\\'m\", \" am\", phrase)\n",
    "    return phrase"
   ]
  },
  {
   "cell_type": "code",
   "execution_count": 21,
   "metadata": {
    "colab": {
     "base_uri": "https://localhost:8080/",
     "height": 51
    },
    "colab_type": "code",
    "id": "9pwBm1SFjiDF",
    "outputId": "d30d5c0a-060e-4b3f-e6b7-7df0f8f88546"
   },
   "outputs": [
    {
     "name": "stdout",
     "output_type": "stream",
     "text": [
      "was way to hot for my blood, took a bite and did a jig  lol\n",
      "==================================================\n"
     ]
    }
   ],
   "source": [
    "sent_1500 = decontracted(sent_1500)\n",
    "print(sent_1500)\n",
    "print(\"=\"*50)"
   ]
  },
  {
   "cell_type": "code",
   "execution_count": 22,
   "metadata": {
    "colab": {
     "base_uri": "https://localhost:8080/",
     "height": 54
    },
    "colab_type": "code",
    "id": "-_UmE7GxjiDN",
    "outputId": "2d89f028-deec-4e5d-ecd1-9ec0d22e99b1"
   },
   "outputs": [
    {
     "name": "stdout",
     "output_type": "stream",
     "text": [
      "My dogs loves this chicken but its a product from China, so we wont be buying it anymore.  Its very hard to find any chicken products made in the USA but they are out there, but this one isnt.  Its too bad too because its a good product but I wont take any chances till they know what is going on with the china imports.\n"
     ]
    }
   ],
   "source": [
    "#remove words with numbers python: https://stackoverflow.com/a/18082370/4084039\n",
    "sent_0 = re.sub(\"\\S*\\d\\S*\", \"\", sent_0).strip()\n",
    "print(sent_0)"
   ]
  },
  {
   "cell_type": "code",
   "execution_count": 23,
   "metadata": {
    "colab": {
     "base_uri": "https://localhost:8080/",
     "height": 34
    },
    "colab_type": "code",
    "id": "Uks-A7nAjiDR",
    "outputId": "0117aa66-1d47-4975-9c3d-f1c33c40d68e"
   },
   "outputs": [
    {
     "name": "stdout",
     "output_type": "stream",
     "text": [
      "was way to hot for my blood took a bite and did a jig lol\n"
     ]
    }
   ],
   "source": [
    "#remove spacial character: https://stackoverflow.com/a/5843547/4084039\n",
    "sent_1500 = re.sub('[^A-Za-z0-9]+', ' ', sent_1500)\n",
    "print(sent_1500)"
   ]
  },
  {
   "cell_type": "code",
   "execution_count": 0,
   "metadata": {
    "colab": {},
    "colab_type": "code",
    "id": "rXWz2uqHjiDU"
   },
   "outputs": [],
   "source": [
    "# https://gist.github.com/sebleier/554280\n",
    "# we are removing the words from the stop words list: 'no', 'nor', 'not'\n",
    "# <br /><br /> ==> after the above steps, we are getting \"br br\"\n",
    "# we are including them into stop words list\n",
    "# instead of <br /> if we have <br/> these tags would have revmoved in the 1st step\n",
    "\n",
    "stopwords= set(['br', 'the', 'i', 'me', 'my', 'myself', 'we', 'our', 'ours', 'ourselves', 'you', \"you're\", \"you've\",\\\n",
    "            \"you'll\", \"you'd\", 'your', 'yours', 'yourself', 'yourselves', 'he', 'him', 'his', 'himself', \\\n",
    "            'she', \"she's\", 'her', 'hers', 'herself', 'it', \"it's\", 'its', 'itself', 'they', 'them', 'their',\\\n",
    "            'theirs', 'themselves', 'what', 'which', 'who', 'whom', 'this', 'that', \"that'll\", 'these', 'those', \\\n",
    "            'am', 'is', 'are', 'was', 'were', 'be', 'been', 'being', 'have', 'has', 'had', 'having', 'do', 'does', \\\n",
    "            'did', 'doing', 'a', 'an', 'the', 'and', 'but', 'if', 'or', 'because', 'as', 'until', 'while', 'of', \\\n",
    "            'at', 'by', 'for', 'with', 'about', 'against', 'between', 'into', 'through', 'during', 'before', 'after',\\\n",
    "            'above', 'below', 'to', 'from', 'up', 'down', 'in', 'out', 'on', 'off', 'over', 'under', 'again', 'further',\\\n",
    "            'then', 'once', 'here', 'there', 'when', 'where', 'why', 'how', 'all', 'any', 'both', 'each', 'few', 'more',\\\n",
    "            'most', 'other', 'some', 'such', 'only', 'own', 'same', 'so', 'than', 'too', 'very', \\\n",
    "            's', 't', 'can', 'will', 'just', 'don', \"don't\", 'should', \"should've\", 'now', 'd', 'll', 'm', 'o', 're', \\\n",
    "            've', 'y', 'ain', 'aren', \"aren't\", 'couldn', \"couldn't\", 'didn', \"didn't\", 'doesn', \"doesn't\", 'hadn',\\\n",
    "            \"hadn't\", 'hasn', \"hasn't\", 'haven', \"haven't\", 'isn', \"isn't\", 'ma', 'mightn', \"mightn't\", 'mustn',\\\n",
    "            \"mustn't\", 'needn', \"needn't\", 'shan', \"shan't\", 'shouldn', \"shouldn't\", 'wasn', \"wasn't\", 'weren', \"weren't\", \\\n",
    "            'won', \"won't\", 'wouldn', \"wouldn't\"])"
   ]
  },
  {
   "cell_type": "markdown",
   "metadata": {
    "colab_type": "text",
    "id": "2dM4GSKjjiDe"
   },
   "source": [
    "<h2><font color='red'>[3.2] Preprocessing Review Summary</font></h2>"
   ]
  },
  {
   "cell_type": "code",
   "execution_count": 0,
   "metadata": {
    "colab": {},
    "colab_type": "code",
    "id": "4E1CScUPjiDf"
   },
   "outputs": [],
   "source": [
    "## Similartly you can do preprocessing for review summary also."
   ]
  },
  {
   "cell_type": "markdown",
   "metadata": {
    "colab_type": "text",
    "id": "cJaUVaV2jiEe"
   },
   "source": [
    "# [5] Assignment 3: KNN"
   ]
  },
  {
   "cell_type": "markdown",
   "metadata": {
    "colab_type": "text",
    "id": "ZKugOqynjiEf"
   },
   "source": [
    "<ol>\n",
    "    <li><strong>Apply Knn(brute force version) on these feature sets</strong>\n",
    "        <ul>\n",
    "            <li><font color='red'>SET 1:</font>Review text, preprocessed one converted into vectors using (BOW)</li>\n",
    "            <li><font color='red'>SET 2:</font>Review text, preprocessed one converted into vectors using (TFIDF)</li>\n",
    "            <li><font color='red'>SET 3:</font>Review text, preprocessed one converted into vectors using (AVG W2v)</li>\n",
    "            <li><font color='red'>SET 4:</font>Review text, preprocessed one converted into vectors using (TFIDF W2v)</li>\n",
    "        </ul>\n",
    "    </li>\n",
    "    <br>\n",
    "    <li><strong>Apply Knn(kd tree version) on these feature sets</strong>\n",
    "        <br><font color='red'>NOTE: </font>sklearn implementation of kd-tree accepts only dense matrices, you need to convert the sparse matrices of CountVectorizer/TfidfVectorizer into dense matices. You can convert sparse matrices to dense using .toarray() attribute. For more information please visit this <a href='https://docs.scipy.org/doc/scipy-0.18.1/reference/generated/scipy.sparse.csr_matrix.toarray.html'>link</a>\n",
    "        <ul>\n",
    "            <li><font color='red'>SET 5:</font>Review text, preprocessed one converted into vectors using (BOW) but with restriction on maximum features generated.\n",
    "            <pre>\n",
    "            count_vect = CountVectorizer(min_df=10, max_features=500) \n",
    "            count_vect.fit(preprocessed_reviews)\n",
    "            </pre>\n",
    "            </li>\n",
    "            <li><font color='red'>SET 6:</font>Review text, preprocessed one converted into vectors using (TFIDF) but with restriction on maximum features generated.\n",
    "            <pre>\n",
    "                tf_idf_vect = TfidfVectorizer(min_df=10, max_features=500)\n",
    "                tf_idf_vect.fit(preprocessed_reviews)\n",
    "            </pre>\n",
    "            </li>\n",
    "            <li><font color='red'>SET 3:</font>Review text, preprocessed one converted into vectors using (AVG W2v)</li>\n",
    "            <li><font color='red'>SET 4:</font>Review text, preprocessed one converted into vectors using (TFIDF W2v)</li>\n",
    "        </ul>\n",
    "    </li>\n",
    "    <br>\n",
    "    <li><strong>The hyper paramter tuning(find best K)</strong>\n",
    "        <ul>\n",
    "    <li>Find the best hyper parameter which will give the maximum <a href='https://www.appliedaicourse.com/course/applied-ai-course-online/lessons/receiver-operating-characteristic-curve-roc-curve-and-auc-1/'>AUC</a> value</li>\n",
    "    <li>Find the best hyper paramter using k-fold cross validation or simple cross validation data</li>\n",
    "    <li>Use gridsearch cv or randomsearch cv or you can also write your own for loops to do this task of hyperparameter tuning</li>\n",
    "        </ul>\n",
    "    </li>\n",
    "    <br>\n",
    "    <li>\n",
    "    <strong>Representation of results</strong>\n",
    "        <ul>\n",
    "    <li>You need to plot the performance of model both on train data and cross validation data for each hyper parameter, like shown in the figure\n",
    "    <img src='train_cv_auc.JPG' width=300px></li>\n",
    "    <li>Once after you found the best hyper parameter, you need to train your model with it, and find the AUC on test data and plot the ROC curve on both train and test.\n",
    "    <img src='train_test_auc.JPG' width=300px></li>\n",
    "    <li>Along with plotting ROC curve, you need to print the <a href='https://www.appliedaicourse.com/course/applied-ai-course-online/lessons/confusion-matrix-tpr-fpr-fnr-tnr-1/'>confusion matrix</a> with predicted and original labels of test data points\n",
    "    <img src='confusion_matrix.png' width=300px></li>\n",
    "        </ul>\n",
    "    </li>\n",
    "    <br>\n",
    "    <li><strong>Conclusion</strong>\n",
    "        <ul>\n",
    "    <li>You need to summarize the results at the end of the notebook, summarize it in the table format. To print out a table please refer to this prettytable library<a href='http://zetcode.com/python/prettytable/'> link</a> \n",
    "        <img src='summary.JPG' width=400px>\n",
    "    </li>\n",
    "        </ul>\n",
    "</ol>"
   ]
  },
  {
   "cell_type": "markdown",
   "metadata": {
    "colab_type": "text",
    "id": "sbTTgGj4jiEf"
   },
   "source": [
    "<h4><font color='red'>Note: Data Leakage</font></h4>\n",
    "\n",
    "1. There will be an issue of data-leakage if you vectorize the entire data and then split it into train/cv/test.\n",
    "2. To avoid the issue of data-leakag, make sure to split your data first and then vectorize it. \n",
    "3. While vectorizing your data, apply the method fit_transform() on you train data, and apply the method transform() on cv/test data.\n",
    "4. For more details please go through this <a href='https://soundcloud.com/applied-ai-course/leakage-bow-and-tfidf'>link.</a>"
   ]
  },
  {
   "cell_type": "markdown",
   "metadata": {
    "colab_type": "text",
    "id": "TYqnTa9RjiEg"
   },
   "source": [
    "## [5.1] Applying KNN brute force"
   ]
  },
  {
   "cell_type": "markdown",
   "metadata": {
    "colab_type": "text",
    "id": "vlWaUnP0jiEk"
   },
   "source": [
    "### [5.1.1] Applying KNN brute force on BOW,<font color='red'> SET 1</font>"
   ]
  },
  {
   "cell_type": "code",
   "execution_count": 0,
   "metadata": {
    "colab": {},
    "colab_type": "code",
    "id": "thKG0buOjiEn"
   },
   "outputs": [],
   "source": [
    "# Please write all the code with proper documentation"
   ]
  },
  {
   "cell_type": "code",
   "execution_count": 25,
   "metadata": {
    "colab": {
     "base_uri": "https://localhost:8080/",
     "height": 34
    },
    "colab_type": "code",
    "id": "uydwTQq307I2",
    "outputId": "c52c5c55-b63b-491c-beaf-8d1e623ca871"
   },
   "outputs": [
    {
     "data": {
      "text/plain": [
       "(87773, 10)"
      ]
     },
     "execution_count": 25,
     "metadata": {
      "tags": []
     },
     "output_type": "execute_result"
    }
   ],
   "source": [
    "final.shape\n",
    "#final.head(3)"
   ]
  },
  {
   "cell_type": "code",
   "execution_count": 26,
   "metadata": {
    "colab": {
     "base_uri": "https://localhost:8080/",
     "height": 34
    },
    "colab_type": "code",
    "id": "YnsrHLeW1D1L",
    "outputId": "53c81782-bbb1-44b1-c922-c17a3cd4ca34"
   },
   "outputs": [
    {
     "name": "stderr",
     "output_type": "stream",
     "text": [
      "100%|██████████| 87773/87773 [00:39<00:00, 2199.72it/s]\n"
     ]
    }
   ],
   "source": [
    "# Combining all the above stundents and preprocessing the Review text data\n",
    "from tqdm import tqdm\n",
    "preprocessed_reviews = []\n",
    "# tqdm is for printing the status bar\n",
    "for sentance in tqdm(final['Text'].values):\n",
    "    sentance = re.sub(r\"http\\S+\", \"\", sentance)\n",
    "    sentance = BeautifulSoup(sentance, 'lxml').get_text()\n",
    "    sentance = decontracted(sentance)\n",
    "    sentance = re.sub(\"\\S*\\d\\S*\", \"\", sentance).strip()\n",
    "    sentance = re.sub('[^A-Za-z]+', ' ', sentance)\n",
    "    # https://gist.github.com/sebleier/554280\n",
    "    sentance = ' '.join(e.lower() for e in sentance.split() if e.lower() not in stopwords)\n",
    "    preprocessed_reviews.append(sentance.strip())"
   ]
  },
  {
   "cell_type": "code",
   "execution_count": 27,
   "metadata": {
    "colab": {
     "base_uri": "https://localhost:8080/",
     "height": 34
    },
    "colab_type": "code",
    "id": "L1Dzn_nge_Pt",
    "outputId": "09ce3f84-eed3-4cc8-8651-8476d0c83e44"
   },
   "outputs": [
    {
     "name": "stderr",
     "output_type": "stream",
     "text": [
      "100%|██████████| 87773/87773 [00:28<00:00, 3067.37it/s]\n"
     ]
    }
   ],
   "source": [
    "# Combining all the above stundents and preprocessing the summary data\n",
    "from tqdm import tqdm\n",
    "preprocessed_summary = []\n",
    "# tqdm is for printing the status bar\n",
    "for sentance in tqdm(final['Summary'].values):\n",
    "    sentance = re.sub(r\"http\\S+\", \"\", sentance)\n",
    "    sentance = BeautifulSoup(sentance, 'lxml').get_text()\n",
    "    sentance = decontracted(sentance)\n",
    "    sentance = re.sub(\"\\S*\\d\\S*\", \"\", sentance).strip()\n",
    "    sentance = re.sub('[^A-Za-z]+', ' ', sentance)\n",
    "    # https://gist.github.com/sebleier/554280\n",
    "    sentance = ' '.join(e.lower() for e in sentance.split() if e.lower() not in stopwords)\n",
    "    preprocessed_summary.append(sentance.strip())"
   ]
  },
  {
   "cell_type": "code",
   "execution_count": 28,
   "metadata": {
    "colab": {
     "base_uri": "https://localhost:8080/",
     "height": 400
    },
    "colab_type": "code",
    "id": "iFJEhz5B1QcH",
    "outputId": "f2542c93-fe79-4f37-fb34-67f9b9643dda"
   },
   "outputs": [
    {
     "data": {
      "text/html": [
       "<div>\n",
       "<style scoped>\n",
       "    .dataframe tbody tr th:only-of-type {\n",
       "        vertical-align: middle;\n",
       "    }\n",
       "\n",
       "    .dataframe tbody tr th {\n",
       "        vertical-align: top;\n",
       "    }\n",
       "\n",
       "    .dataframe thead th {\n",
       "        text-align: right;\n",
       "    }\n",
       "</style>\n",
       "<table border=\"1\" class=\"dataframe\">\n",
       "  <thead>\n",
       "    <tr style=\"text-align: right;\">\n",
       "      <th></th>\n",
       "      <th>Id</th>\n",
       "      <th>ProductId</th>\n",
       "      <th>UserId</th>\n",
       "      <th>ProfileName</th>\n",
       "      <th>HelpfulnessNumerator</th>\n",
       "      <th>HelpfulnessDenominator</th>\n",
       "      <th>Score</th>\n",
       "      <th>Time</th>\n",
       "      <th>Summary</th>\n",
       "      <th>Text</th>\n",
       "      <th>PreprocessedText</th>\n",
       "      <th>PreprocessedSummary</th>\n",
       "      <th>Final_Text</th>\n",
       "    </tr>\n",
       "  </thead>\n",
       "  <tbody>\n",
       "    <tr>\n",
       "      <th>22620</th>\n",
       "      <td>24750</td>\n",
       "      <td>2734888454</td>\n",
       "      <td>A13ISQV0U9GZIC</td>\n",
       "      <td>Sandikaye</td>\n",
       "      <td>1</td>\n",
       "      <td>1</td>\n",
       "      <td>0</td>\n",
       "      <td>1192060800</td>\n",
       "      <td>made in china</td>\n",
       "      <td>My dogs loves this chicken but its a product f...</td>\n",
       "      <td>dogs loves chicken product china wont buying a...</td>\n",
       "      <td>made china</td>\n",
       "      <td>dogs loves chicken product china wont buying a...</td>\n",
       "    </tr>\n",
       "    <tr>\n",
       "      <th>22621</th>\n",
       "      <td>24751</td>\n",
       "      <td>2734888454</td>\n",
       "      <td>A1C298ITT645B6</td>\n",
       "      <td>Hugh G. Pritchard</td>\n",
       "      <td>0</td>\n",
       "      <td>0</td>\n",
       "      <td>1</td>\n",
       "      <td>1195948800</td>\n",
       "      <td>Dog Lover Delites</td>\n",
       "      <td>Our dogs just love them.  I saw them in a pet ...</td>\n",
       "      <td>dogs love saw pet store tag attached regarding...</td>\n",
       "      <td>dog lover delites</td>\n",
       "      <td>dogs love saw pet store tag attached regarding...</td>\n",
       "    </tr>\n",
       "    <tr>\n",
       "      <th>70677</th>\n",
       "      <td>76870</td>\n",
       "      <td>B00002N8SM</td>\n",
       "      <td>A19Q006CSFT011</td>\n",
       "      <td>Arlielle</td>\n",
       "      <td>0</td>\n",
       "      <td>0</td>\n",
       "      <td>0</td>\n",
       "      <td>1288396800</td>\n",
       "      <td>only one fruitfly stuck</td>\n",
       "      <td>I had an infestation of fruitflies, they were ...</td>\n",
       "      <td>infestation fruitflies literally everywhere fl...</td>\n",
       "      <td>one fruitfly stuck</td>\n",
       "      <td>infestation fruitflies literally everywhere fl...</td>\n",
       "    </tr>\n",
       "  </tbody>\n",
       "</table>\n",
       "</div>"
      ],
      "text/plain": [
       "          Id   ProductId          UserId        ProfileName  \\\n",
       "22620  24750  2734888454  A13ISQV0U9GZIC          Sandikaye   \n",
       "22621  24751  2734888454  A1C298ITT645B6  Hugh G. Pritchard   \n",
       "70677  76870  B00002N8SM  A19Q006CSFT011           Arlielle   \n",
       "\n",
       "       HelpfulnessNumerator  HelpfulnessDenominator  Score        Time  \\\n",
       "22620                     1                       1      0  1192060800   \n",
       "22621                     0                       0      1  1195948800   \n",
       "70677                     0                       0      0  1288396800   \n",
       "\n",
       "                       Summary  \\\n",
       "22620            made in china   \n",
       "22621        Dog Lover Delites   \n",
       "70677  only one fruitfly stuck   \n",
       "\n",
       "                                                    Text  \\\n",
       "22620  My dogs loves this chicken but its a product f...   \n",
       "22621  Our dogs just love them.  I saw them in a pet ...   \n",
       "70677  I had an infestation of fruitflies, they were ...   \n",
       "\n",
       "                                        PreprocessedText PreprocessedSummary  \\\n",
       "22620  dogs loves chicken product china wont buying a...          made china   \n",
       "22621  dogs love saw pet store tag attached regarding...   dog lover delites   \n",
       "70677  infestation fruitflies literally everywhere fl...  one fruitfly stuck   \n",
       "\n",
       "                                              Final_Text  \n",
       "22620  dogs loves chicken product china wont buying a...  \n",
       "22621  dogs love saw pet store tag attached regarding...  \n",
       "70677  infestation fruitflies literally everywhere fl...  "
      ]
     },
     "execution_count": 28,
     "metadata": {
      "tags": []
     },
     "output_type": "execute_result"
    }
   ],
   "source": [
    "#added preprocessed reviews\n",
    "#sample_preproc_revi\n",
    "final['PreprocessedText'] = preprocessed_reviews\n",
    "final['PreprocessedSummary'] = preprocessed_summary\n",
    "final['Final_Text'] = final['PreprocessedText'] + final['PreprocessedSummary']\n",
    "final.head(3)\n"
   ]
  },
  {
   "cell_type": "code",
   "execution_count": 0,
   "metadata": {
    "colab": {},
    "colab_type": "code",
    "id": "hC6kdeEJhsr2"
   },
   "outputs": [],
   "source": [
    "#sorting based on time\n",
    "final[\"Time\"] = pd.to_datetime(final[\"Time\"],unit=\"s\")\n",
    "final = final.sort_values( by =\"Time\")"
   ]
  },
  {
   "cell_type": "code",
   "execution_count": 30,
   "metadata": {
    "colab": {
     "base_uri": "https://localhost:8080/",
     "height": 85
    },
    "colab_type": "code",
    "id": "3PMACFds1Tdz",
    "outputId": "591811e2-11ce-49bd-c470-bd61c82b776c"
   },
   "outputs": [
    {
     "name": "stdout",
     "output_type": "stream",
     "text": [
      "(61441,) (61441,)\n",
      "(41165,) (41165,)\n",
      "(20276,) (20276,)\n",
      "(26332,) (26332,)\n"
     ]
    }
   ],
   "source": [
    "#splitting data into train , test\n",
    "X_train, X_test, y_train, y_test = train_test_split(\n",
    "    final['Final_Text'], final['Score'], test_size=0.30, random_state=0)\n",
    "\n",
    "X_train_cv, X_cv, y_train_cv, y_cv = train_test_split(X_train, y_train, test_size=0.33) \n",
    "\n",
    "print(X_train.shape, y_train.shape)\n",
    "print(X_train_cv.shape,y_train_cv.shape)\n",
    "print(X_cv.shape, y_cv.shape)\n",
    "print(X_test.shape, y_test.shape)\n"
   ]
  },
  {
   "cell_type": "code",
   "execution_count": 34,
   "metadata": {
    "colab": {
     "base_uri": "https://localhost:8080/",
     "height": 85
    },
    "colab_type": "code",
    "id": "867aXm1q2BTO",
    "outputId": "2d307e1f-b4fa-43fc-ef8a-e6328c32a382"
   },
   "outputs": [
    {
     "name": "stdout",
     "output_type": "stream",
     "text": [
      "After vectorizations\n",
      "(41165, 68770) (41165,)\n",
      "(20276, 68770) (20276,)\n",
      "(26332, 68770) (26332,)\n"
     ]
    }
   ],
   "source": [
    "vectorizer = CountVectorizer()\n",
    "vectorizer.fit(X_train_cv)\n",
    "\n",
    "X_train_cv_bow = vectorizer.transform(X_train_cv)\n",
    "X_cv_bow = vectorizer.transform(X_cv)\n",
    "X_test_bow = vectorizer.transform(X_test)\n",
    "\n",
    "print(\"After vectorizations\")\n",
    "print(X_train_cv_bow.shape, y_train_cv.shape)\n",
    "print(X_cv_bow.shape, y_cv.shape)\n",
    "print(X_test_bow.shape, y_test.shape)"
   ]
  },
  {
   "cell_type": "code",
   "execution_count": 35,
   "metadata": {
    "colab": {
     "base_uri": "https://localhost:8080/",
     "height": 294
    },
    "colab_type": "code",
    "id": "GXRmRaWk7ecg",
    "outputId": "f7614ea7-cee7-41d4-f38e-a9c9432ae8e0"
   },
   "outputs": [
    {
     "data": {
      "image/png": "[encoded data removed]",
      "text/plain": [
       "<Figure size 432x288 with 1 Axes>"
      ]
     },
     "metadata": {
      "tags": []
     },
     "output_type": "display_data"
    }
   ],
   "source": [
    "#finding best k- value using loop\n",
    "\n",
    "from sklearn.neighbors import KNeighborsClassifier\n",
    "from sklearn.metrics import roc_auc_score\n",
    "import matplotlib.pyplot as plt\n",
    "\n",
    "\n",
    "train_auc = []\n",
    "cv_auc = []\n",
    "K = [1, 5, 10, 15, 21, 31, 41, 51]\n",
    "for i in K:\n",
    "    neigh = KNeighborsClassifier(n_neighbors=i , algorithm = \"brute\")\n",
    "    neigh.fit(X_train_cv_bow, y_train_cv)\n",
    "    y_train_pred = []\n",
    "    y_train_pred.extend(neigh.predict_proba(X_train_cv_bow)[:,1])  \n",
    "    y_cv_pred = []\n",
    "    y_cv_pred.extend(neigh.predict_proba(X_cv_bow)[:,1])\n",
    "\n",
    "    train_auc.append(roc_auc_score(y_train_cv,y_train_pred))\n",
    "    cv_auc.append(roc_auc_score(y_cv, y_cv_pred))\n",
    "\n",
    "plt.plot(K, train_auc, label='Train AUC')\n",
    "plt.plot(K, cv_auc, label='CV AUC')\n",
    "plt.legend()\n",
    "plt.xlabel(\"K: hyperparameter\")\n",
    "plt.ylabel(\"AUC\")\n",
    "plt.title(\"Error Plots\")\n",
    "plt.show()"
   ]
  },
  {
   "cell_type": "code",
   "execution_count": 0,
   "metadata": {
    "colab": {},
    "colab_type": "code",
    "id": "wrWt8G9Z8v10"
   },
   "outputs": [],
   "source": [
    "best_k_bow = 51"
   ]
  },
  {
   "cell_type": "code",
   "execution_count": 88,
   "metadata": {
    "colab": {
     "base_uri": "https://localhost:8080/",
     "height": 294
    },
    "colab_type": "code",
    "id": "XO2p_q_q8_xG",
    "outputId": "5b8e900c-81e7-4cd5-b1f8-3321d0c061ca"
   },
   "outputs": [
    {
     "data": {
      "image/png": "[encoded data removed]",
      "text/plain": [
       "<Figure size 432x288 with 1 Axes>"
      ]
     },
     "metadata": {
      "tags": []
     },
     "output_type": "display_data"
    }
   ],
   "source": [
    "#testing the data\n",
    "from sklearn.metrics import roc_curve, auc\n",
    "\n",
    "\n",
    "neigh = KNeighborsClassifier(n_neighbors=best_k_bow)\n",
    "neigh.fit(X_train_cv_bow, y_train_cv)\n",
    "\n",
    "\n",
    "train_fpr, train_tpr, thresholds = roc_curve(y_train_cv, neigh.predict_proba(X_train_cv_bow)[:,1])\n",
    "test_fpr, test_tpr, thresholds = roc_curve(y_test, neigh.predict_proba(X_test_bow)[:,1])\n",
    "\n",
    "train_BOW_Acc = auc(train_fpr, train_tpr)\n",
    "test_BOW_Acc = auc(test_fpr, test_tpr)\n",
    "\n",
    "plt.plot(train_fpr, train_tpr, label=\"train AUC =\"+str(auc(train_fpr, train_tpr)))\n",
    "plt.plot(test_fpr, test_tpr, label=\"test AUC =\"+str(auc(test_fpr, test_tpr)))\n",
    "plt.legend()\n",
    "plt.xlabel(\"False Positive Rate : FPR\")\n",
    "plt.ylabel(\"True Positive Rate : TPR\")\n",
    "plt.title(\"ROC Curve\")\n",
    "plt.show()\n",
    "\n"
   ]
  },
  {
   "cell_type": "code",
   "execution_count": 40,
   "metadata": {
    "colab": {
     "base_uri": "https://localhost:8080/",
     "height": 294
    },
    "colab_type": "code",
    "id": "Zgx69ZGM4OkN",
    "outputId": "071700bb-7183-42ae-c9fa-3fe3a3a56b12"
   },
   "outputs": [
    {
     "data": {
      "image/png": "[encoded data removed]",
      "text/plain": [
       "<Figure size 432x288 with 2 Axes>"
      ]
     },
     "metadata": {
      "tags": []
     },
     "output_type": "display_data"
    }
   ],
   "source": [
    "conf_matrix = confusion_matrix(y_train_cv, neigh.predict(X_train_cv_bow))\n",
    "class_label = [0, 1]\n",
    "df_conf_matrix = pd.DataFrame(\n",
    "    conf_matrix, index=class_label, columns=class_label)\n",
    "sns.heatmap(df_conf_matrix, annot=True, fmt='d')\n",
    "plt.title(\"Confusion Matrix for train data\")\n",
    "plt.xlabel(\"Predicted\")\n",
    "plt.ylabel(\"Actual\")\n",
    "plt.show()"
   ]
  },
  {
   "cell_type": "code",
   "execution_count": 41,
   "metadata": {
    "colab": {
     "base_uri": "https://localhost:8080/",
     "height": 294
    },
    "colab_type": "code",
    "id": "XGpLgxRE9Xrp",
    "outputId": "2bfb8372-fe96-45f4-e735-cd71afed8c2a"
   },
   "outputs": [
    {
     "data": {
      "image/png": "[encoded data removed]",
      "text/plain": [
       "<Figure size 432x288 with 2 Axes>"
      ]
     },
     "metadata": {
      "tags": []
     },
     "output_type": "display_data"
    }
   ],
   "source": [
    "conf_matrix = confusion_matrix(y_test, neigh.predict(X_test_bow))\n",
    "class_label = [0, 1]\n",
    "df_conf_matrix = pd.DataFrame(\n",
    "    conf_matrix, index=class_label, columns=class_label)\n",
    "sns.heatmap(df_conf_matrix, annot=True, fmt='d')\n",
    "plt.title(\"Confusion Matrix for test data\")\n",
    "plt.xlabel(\"Predicted\")\n",
    "plt.ylabel(\"Actual\")\n",
    "plt.show()"
   ]
  },
  {
   "cell_type": "code",
   "execution_count": 42,
   "metadata": {
    "colab": {
     "base_uri": "https://localhost:8080/",
     "height": 85
    },
    "colab_type": "code",
    "id": "bqYlKZEIFKuX",
    "outputId": "3464fb11-3483-47db-83c7-6cc5b2a27055"
   },
   "outputs": [
    {
     "name": "stdout",
     "output_type": "stream",
     "text": [
      "TPR  0.8524570891135669\n",
      "FPR  0.4238329238329238\n",
      "TNR  0.5761670761670762\n",
      "FNR  0.1475429108864331\n"
     ]
    }
   ],
   "source": [
    "# Calculating TPR , FPR , TNR , FNR\n",
    "TrueNeg,FalseNeg,FalsePos, TruePos = confusion_matrix(y_test, neigh.predict(X_test_bow)).ravel()\n",
    "\n",
    "# TPR (TPR = TP/(FN+TP))\n",
    "TPR = TruePos/(FalseNeg + TruePos)\n",
    "print(\"TPR \" , TPR)\n",
    "\n",
    "# FPR (FPR = FP/(TN+FP))\n",
    "FPR = FalsePos/(TrueNeg + FalsePos)\n",
    "print(\"FPR \" , FPR)\n",
    "\n",
    "# TNR (TNR = TN/(TN+FP))\n",
    "TNR = TrueNeg/(TrueNeg + FalsePos)\n",
    "print(\"TNR \" , TNR)\n",
    "\n",
    "# FNR (FNR = TN/(FN+TP))\n",
    "FNR = FalseNeg/(FalseNeg + TruePos)\n",
    "print(\"FNR \" , FNR)\n"
   ]
  },
  {
   "cell_type": "markdown",
   "metadata": {
    "colab_type": "text",
    "id": "ryZr_gYBIYhi"
   },
   "source": [
    "To suit for best model , we need more TPR and TNR and less FPR and FNR.\n",
    "from the above observation TPR and TNR are more and FPR and FNR are less."
   ]
  },
  {
   "cell_type": "markdown",
   "metadata": {
    "colab_type": "text",
    "id": "eNt2em8WjiEq"
   },
   "source": [
    "### [5.1.2] Applying KNN brute force on TFIDF,<font color='red'> SET 2</font>"
   ]
  },
  {
   "cell_type": "code",
   "execution_count": 0,
   "metadata": {
    "colab": {},
    "colab_type": "code",
    "id": "pHkbFLjtjiEr"
   },
   "outputs": [],
   "source": [
    "# Please write all the code with proper documentation"
   ]
  },
  {
   "cell_type": "code",
   "execution_count": 44,
   "metadata": {
    "colab": {
     "base_uri": "https://localhost:8080/",
     "height": 85
    },
    "colab_type": "code",
    "id": "GtHPZ-OllPH-",
    "outputId": "e4744b12-e00a-4ab9-ee09-d5cb4a1a8c6a"
   },
   "outputs": [
    {
     "name": "stdout",
     "output_type": "stream",
     "text": [
      "After vectorizations\n",
      "(41165, 24624) (41165,)\n",
      "(20276, 24624) (20276,)\n",
      "(26332, 24624) (26332,)\n"
     ]
    }
   ],
   "source": [
    "#fitting to train data\n",
    "tf_idf_vect = TfidfVectorizer(ngram_range=(1,2), min_df=10)\n",
    "tf_idf_vect.fit(X_train_cv)\n",
    "\n",
    "X_train_tfidf = tf_idf_vect.transform(X_train_cv)\n",
    "X_CV_tfidf = tf_idf_vect.transform(X_cv)\n",
    "X_test_tfidf = tf_idf_vect.transform(X_test)\n",
    "\n",
    "print(\"After vectorizations\")\n",
    "print(X_train_tfidf.shape, y_train_cv.shape)\n",
    "print(X_CV_tfidf.shape, y_cv.shape)\n",
    "print(X_test_tfidf.shape, y_test.shape)\n",
    "\n"
   ]
  },
  {
   "cell_type": "code",
   "execution_count": 45,
   "metadata": {
    "colab": {
     "base_uri": "https://localhost:8080/",
     "height": 294
    },
    "colab_type": "code",
    "id": "Ip4ue4vplZlx",
    "outputId": "c20635c5-99fd-40e0-af96-5c61a52f2e55"
   },
   "outputs": [
    {
     "data": {
      "image/png": "[encoded data removed]",
      "text/plain": [
       "<Figure size 432x288 with 1 Axes>"
      ]
     },
     "metadata": {
      "tags": []
     },
     "output_type": "display_data"
    }
   ],
   "source": [
    "#finding best k- value using loop\n",
    "\n",
    "from sklearn.neighbors import KNeighborsClassifier\n",
    "from sklearn.metrics import roc_auc_score\n",
    "import matplotlib.pyplot as plt\n",
    "\n",
    "train_auc = []\n",
    "cv_auc = []\n",
    "K = [1, 5, 10, 15, 21, 31, 41, 51]\n",
    "for i in K:\n",
    "  neigh = KNeighborsClassifier(n_neighbors=i,algorithm = \"brute\")\n",
    "  neigh.fit(X_train_tfidf, y_train_cv)\n",
    "  y_train_pred = []\n",
    "  y_train_pred.extend(neigh.predict_proba(X_train_tfidf)[:,1])  \n",
    "  y_cv_pred = []\n",
    "  y_cv_pred.extend(neigh.predict_proba(X_CV_tfidf)[:,1])\n",
    "  train_auc.append(roc_auc_score(y_train_cv,y_train_pred))\n",
    "  cv_auc.append(roc_auc_score(y_cv, y_cv_pred))\n",
    "\n",
    "\n",
    "plt.plot(K, train_auc, label='Train AUC')\n",
    "plt.plot(K, cv_auc, label='CV AUC')\n",
    "plt.legend()\n",
    "plt.xlabel(\"K: hyperparameter\")\n",
    "plt.ylabel(\"AUC\")\n",
    "plt.title(\"ERROR PLOTS\")\n",
    "plt.show()"
   ]
  },
  {
   "cell_type": "code",
   "execution_count": 0,
   "metadata": {
    "colab": {},
    "colab_type": "code",
    "id": "_Rh8XOS9ldw4"
   },
   "outputs": [],
   "source": [
    "best_k_tfidf = 51"
   ]
  },
  {
   "cell_type": "code",
   "execution_count": 90,
   "metadata": {
    "colab": {
     "base_uri": "https://localhost:8080/",
     "height": 294
    },
    "colab_type": "code",
    "id": "Voym8uCdlgN2",
    "outputId": "cfdf5278-3799-424b-bfa6-b4faf136d1cf"
   },
   "outputs": [
    {
     "data": {
      "image/png": "[encoded data removed]",
      "text/plain": [
       "<Figure size 432x288 with 1 Axes>"
      ]
     },
     "metadata": {
      "tags": []
     },
     "output_type": "display_data"
    }
   ],
   "source": [
    "#testing the data\n",
    "from sklearn.metrics import roc_curve, auc\n",
    "\n",
    "\n",
    "neigh = KNeighborsClassifier(n_neighbors=best_k_tfidf)\n",
    "neigh.fit(X_train_tfidf, y_train_cv)\n",
    "\n",
    "train_fpr, train_tpr, thresholds = roc_curve(y_train_cv, neigh.predict_proba(X_train_tfidf)[:,1])\n",
    "test_fpr, test_tpr, thresholds = roc_curve(y_test, neigh.predict_proba(X_test_tfidf)[:,1])\n",
    "\n",
    "train_tfidf_Acc = auc(train_fpr, train_tpr)\n",
    "test_tfidf_Acc = auc(test_fpr, test_tpr)\n",
    "\n",
    "plt.plot(train_fpr, train_tpr, label=\"train AUC =\"+str(auc(train_fpr, train_tpr)))\n",
    "plt.plot(test_fpr, test_tpr, label=\"test AUC =\"+str(auc(test_fpr, test_tpr)))\n",
    "plt.legend()\n",
    "plt.xlabel(\"False Positive Rate : FPR\")\n",
    "plt.ylabel(\"True Positive Rate : TPR\")\n",
    "plt.title(\"ROC Curve\")\n",
    "plt.show()\n",
    "\n"
   ]
  },
  {
   "cell_type": "code",
   "execution_count": 48,
   "metadata": {
    "colab": {
     "base_uri": "https://localhost:8080/",
     "height": 294
    },
    "colab_type": "code",
    "id": "wQ6b1G8y4v4v",
    "outputId": "23071433-76be-439b-e6d2-ed9fb2022a27"
   },
   "outputs": [
    {
     "data": {
      "image/png": "[encoded data removed]",
      "text/plain": [
       "<Figure size 432x288 with 2 Axes>"
      ]
     },
     "metadata": {
      "tags": []
     },
     "output_type": "display_data"
    }
   ],
   "source": [
    "conf_matrix = confusion_matrix(y_train_cv, neigh.predict(X_train_tfidf))\n",
    "class_label = [0, 1]\n",
    "df_conf_matrix = pd.DataFrame(\n",
    "    conf_matrix, index=class_label, columns=class_label)\n",
    "sns.heatmap(df_conf_matrix, annot=True, fmt='d')\n",
    "plt.title(\"Confusion Matrix for train data\")\n",
    "plt.xlabel(\"Predicted\")\n",
    "plt.ylabel(\"Actual\")\n",
    "plt.show()"
   ]
  },
  {
   "cell_type": "code",
   "execution_count": 49,
   "metadata": {
    "colab": {
     "base_uri": "https://localhost:8080/",
     "height": 294
    },
    "colab_type": "code",
    "id": "8CNSWNVYOkoj",
    "outputId": "ae1e9908-f955-421e-e48d-518d36fee00a"
   },
   "outputs": [
    {
     "data": {
      "image/png": "[encoded data removed]",
      "text/plain": [
       "<Figure size 432x288 with 2 Axes>"
      ]
     },
     "metadata": {
      "tags": []
     },
     "output_type": "display_data"
    }
   ],
   "source": [
    "conf_matrix = confusion_matrix(y_test, neigh.predict(X_test_tfidf))\n",
    "class_label = [0, 1]\n",
    "df_conf_matrix = pd.DataFrame(\n",
    "    conf_matrix, index=class_label, columns=class_label)\n",
    "sns.heatmap(df_conf_matrix, annot=True, fmt='d')\n",
    "plt.title(\"Confusion Matrix for test data\")\n",
    "plt.xlabel(\"Predicted\")\n",
    "plt.ylabel(\"Actual\")\n",
    "plt.show()"
   ]
  },
  {
   "cell_type": "code",
   "execution_count": 50,
   "metadata": {
    "colab": {
     "base_uri": "https://localhost:8080/",
     "height": 85
    },
    "colab_type": "code",
    "id": "c2Z6pQIYPz_i",
    "outputId": "0ce59877-6366-4097-ed3a-5ddf9330c5c4"
   },
   "outputs": [
    {
     "name": "stdout",
     "output_type": "stream",
     "text": [
      "TPR  0.8531709203402938\n",
      "FPR  0.07415254237288135\n",
      "TNR  0.9258474576271186\n",
      "FNR  0.1468290796597061\n"
     ]
    }
   ],
   "source": [
    "# Calculating TPR , FPR , TNR , FNR\n",
    "TrueNeg,FalseNeg,FalsePos, TruePos = confusion_matrix(y_test, neigh.predict(X_test_tfidf)).ravel()\n",
    "\n",
    "# TPR (TPR = TP/(FN+TP))\n",
    "TPR = TruePos/(FalseNeg + TruePos)\n",
    "print(\"TPR \" , TPR)\n",
    "\n",
    "# FPR (FPR = FP/(TN+FP))\n",
    "FPR = FalsePos/(TrueNeg + FalsePos)\n",
    "print(\"FPR \" , FPR)\n",
    "\n",
    "# TNR (TNR = TN/(TN+FP))\n",
    "TNR = TrueNeg/(TrueNeg + FalsePos)\n",
    "print(\"TNR \" , TNR)\n",
    "\n",
    "# FNR (FNR = TN/(FN+TP))\n",
    "FNR = FalseNeg/(FalseNeg + TruePos)\n",
    "print(\"FNR \" , FNR)\n"
   ]
  },
  {
   "cell_type": "markdown",
   "metadata": {
    "colab_type": "text",
    "id": "avc3KyaBjiEt"
   },
   "source": [
    "### [5.1.3] Applying KNN brute force on AVG W2V,<font color='red'> SET 3</font>"
   ]
  },
  {
   "cell_type": "code",
   "execution_count": 0,
   "metadata": {
    "colab": {},
    "colab_type": "code",
    "id": "o55JeXkvjiEy"
   },
   "outputs": [],
   "source": [
    "# Please write all the code with proper documentation"
   ]
  },
  {
   "cell_type": "code",
   "execution_count": 52,
   "metadata": {
    "colab": {
     "base_uri": "https://localhost:8080/",
     "height": 34
    },
    "colab_type": "code",
    "id": "dFN-1tg24SYw",
    "outputId": "784f2c0a-4153-47d2-8ee4-212ed05765e1"
   },
   "outputs": [
    {
     "name": "stdout",
     "output_type": "stream",
     "text": [
      "number of words that occured minimum 5 times  12938\n"
     ]
    }
   ],
   "source": [
    "# Train your own Word2Vec model using your own text corpus\n",
    "\n",
    "X_train_sentance=[]\n",
    "for sentance in X_train_cv:\n",
    "    X_train_sentance.append(sentance.split())\n",
    " \n",
    "X_test_sentance=[]\n",
    "for sentance in X_test:\n",
    "    X_test_sentance.append(sentance.split())\n",
    "\n",
    "X_cv_sentance=[]\n",
    "for sentance in X_cv:\n",
    "    X_cv_sentance.append(sentance.split())\n",
    "    \n",
    "w2v_model=Word2Vec(X_train_sentance,min_count=5,size=100, workers=4)\n",
    "\n",
    "\n",
    "w2v_words = list(w2v_model.wv.vocab)\n",
    "print(\"number of words that occured minimum 5 times \",len(w2v_words))\n",
    "\n",
    "X_train_vectors = []\n",
    "for sent in X_train_sentance:\n",
    "    sent_vec = np.zeros(100) \n",
    "    cnt_words =0; \n",
    "    for word in sent: # \n",
    "        if word in w2v_words:\n",
    "            vec = w2v_model.wv[word]\n",
    "            sent_vec += vec\n",
    "            cnt_words += 1\n",
    "    if cnt_words != 0:\n",
    "        sent_vec /= cnt_words\n",
    "    X_train_vectors.append(sent_vec)\n",
    "    \n",
    "\n",
    "X_test_vectors = []\n",
    "for sent in X_test_sentance:\n",
    "    sent_vec = np.zeros(100) \n",
    "    cnt_words =0; \n",
    "    for word in sent: # \n",
    "        if word in w2v_words:\n",
    "            vec = w2v_model.wv[word]\n",
    "            sent_vec += vec\n",
    "            cnt_words += 1\n",
    "    if cnt_words != 0:\n",
    "        sent_vec /= cnt_words\n",
    "    X_test_vectors.append(sent_vec)\n",
    "    \n",
    "  \n",
    "X_cv_vectors = []\n",
    "for sent in X_cv_sentance:\n",
    "    sent_vec = np.zeros(100) \n",
    "    cnt_words =0; \n",
    "    for word in sent: # \n",
    "        if word in w2v_words:\n",
    "            vec = w2v_model.wv[word]\n",
    "            sent_vec += vec\n",
    "            cnt_words += 1\n",
    "    if cnt_words != 0:\n",
    "        sent_vec /= cnt_words\n",
    "    X_cv_vectors.append(sent_vec)\n",
    "    \n"
   ]
  },
  {
   "cell_type": "code",
   "execution_count": 53,
   "metadata": {
    "colab": {
     "base_uri": "https://localhost:8080/",
     "height": 294
    },
    "colab_type": "code",
    "id": "6I_4w676_4ml",
    "outputId": "a71e53a6-2fbb-46a1-c0ad-09038f4abd10"
   },
   "outputs": [
    {
     "data": {
      "image/png": "[encoded data removed]",
      "text/plain": [
       "<Figure size 432x288 with 1 Axes>"
      ]
     },
     "metadata": {
      "tags": []
     },
     "output_type": "display_data"
    }
   ],
   "source": [
    "#finding best k- value using loop\n",
    "\n",
    "from sklearn.neighbors import KNeighborsClassifier\n",
    "from sklearn.metrics import roc_auc_score\n",
    "import matplotlib.pyplot as plt\n",
    "\n",
    "train_auc = []\n",
    "cv_auc = []\n",
    "K = [1, 5, 10, 15, 21, 31, 41, 51]\n",
    "for i in K:\n",
    "  neigh = KNeighborsClassifier(n_neighbors=i,algorithm = \"brute\")\n",
    "  neigh.fit(X_train_vectors, y_train_cv)\n",
    "  y_train_pred = []\n",
    "  y_train_pred.extend(neigh.predict_proba(X_train_vectors)[:,1])  \n",
    "  y_cv_pred = []\n",
    "  y_cv_pred.extend(neigh.predict_proba(X_cv_vectors)[:,1])\n",
    "  train_auc.append(roc_auc_score(y_train_cv,y_train_pred))\n",
    "  cv_auc.append(roc_auc_score(y_cv, y_cv_pred))\n",
    "\n",
    "plt.plot(K, train_auc, label='Train AUC')\n",
    "plt.plot(K, cv_auc, label='CV AUC')\n",
    "plt.legend()\n",
    "plt.xlabel(\"K: hyperparameter\")\n",
    "plt.ylabel(\"AUC\")\n",
    "plt.title(\"ERROR PLOTS\")\n",
    "plt.show()"
   ]
  },
  {
   "cell_type": "code",
   "execution_count": 0,
   "metadata": {
    "colab": {},
    "colab_type": "code",
    "id": "cPHBprZEAyXz"
   },
   "outputs": [],
   "source": [
    "best_k_AVGW2V = 51"
   ]
  },
  {
   "cell_type": "code",
   "execution_count": 92,
   "metadata": {
    "colab": {
     "base_uri": "https://localhost:8080/",
     "height": 294
    },
    "colab_type": "code",
    "id": "38XN8TPvAtzg",
    "outputId": "3858ca87-2978-48e2-bfcf-a428ffbb78c6"
   },
   "outputs": [
    {
     "data": {
      "image/png": "[encoded data removed]",
      "text/plain": [
       "<Figure size 432x288 with 1 Axes>"
      ]
     },
     "metadata": {
      "tags": []
     },
     "output_type": "display_data"
    }
   ],
   "source": [
    "#testing the data\n",
    "from sklearn.metrics import roc_curve, auc\n",
    "\n",
    "\n",
    "neigh = KNeighborsClassifier(n_neighbors=best_k_AVGW2V)\n",
    "neigh.fit(X_train_vectors, y_train_cv)\n",
    "\n",
    "train_fpr, train_tpr, thresholds = roc_curve(y_train_cv, neigh.predict_proba(X_train_vectors)[:,1])\n",
    "test_fpr, test_tpr, thresholds = roc_curve(y_test, neigh.predict_proba(X_test_vectors)[:,1])\n",
    "\n",
    "train_AVGW2V_Acc = auc(train_fpr, train_tpr)\n",
    "test_AVGW2V_Acc = auc(test_fpr, test_tpr)\n",
    "\n",
    "plt.plot(train_fpr, train_tpr, label=\"train AUC =\"+str(auc(train_fpr, train_tpr)))\n",
    "plt.plot(test_fpr, test_tpr, label=\"test AUC =\"+str(auc(test_fpr, test_tpr)))\n",
    "plt.legend()\n",
    "plt.xlabel(\"False Positive Rate : FPR\")\n",
    "plt.ylabel(\"True Positive Rate : TPR\")\n",
    "plt.title(\"ROC Curve\")\n",
    "plt.show()\n",
    "\n"
   ]
  },
  {
   "cell_type": "code",
   "execution_count": 56,
   "metadata": {
    "colab": {
     "base_uri": "https://localhost:8080/",
     "height": 294
    },
    "colab_type": "code",
    "id": "Kc_EWAI65InM",
    "outputId": "2f3966d0-4e70-41fa-f0d1-a9759a7a5642"
   },
   "outputs": [
    {
     "data": {
      "image/png": "[encoded data removed]",
      "text/plain": [
       "<Figure size 432x288 with 2 Axes>"
      ]
     },
     "metadata": {
      "tags": []
     },
     "output_type": "display_data"
    }
   ],
   "source": [
    "conf_matrix = confusion_matrix(y_train_cv, neigh.predict(X_train_vectors))\n",
    "class_label = [0, 1]\n",
    "df_conf_matrix = pd.DataFrame(\n",
    "    conf_matrix, index=class_label, columns=class_label)\n",
    "sns.heatmap(df_conf_matrix, annot=True, fmt='d')\n",
    "plt.title(\"Confusion Matrix for train data\")\n",
    "plt.xlabel(\"Predicted\")\n",
    "plt.ylabel(\"Actual\")\n",
    "plt.show()"
   ]
  },
  {
   "cell_type": "code",
   "execution_count": 57,
   "metadata": {
    "colab": {
     "base_uri": "https://localhost:8080/",
     "height": 294
    },
    "colab_type": "code",
    "id": "q3iih3hKE4K6",
    "outputId": "33f06f2b-6e6e-430a-a6cb-6c7d69b459d8"
   },
   "outputs": [
    {
     "data": {
      "image/png": "[encoded data removed]",
      "text/plain": [
       "<Figure size 432x288 with 2 Axes>"
      ]
     },
     "metadata": {
      "tags": []
     },
     "output_type": "display_data"
    }
   ],
   "source": [
    "conf_matrix = confusion_matrix(y_test, neigh.predict(X_test_vectors))\n",
    "class_label = [0, 1]\n",
    "df_conf_matrix = pd.DataFrame(\n",
    "    conf_matrix, index=class_label, columns=class_label)\n",
    "sns.heatmap(df_conf_matrix, annot=True, fmt='d')\n",
    "plt.title(\"Confusion Matrix for test data\")\n",
    "plt.xlabel(\"Predicted\")\n",
    "plt.ylabel(\"Actual\")\n",
    "plt.show()"
   ]
  },
  {
   "cell_type": "code",
   "execution_count": 58,
   "metadata": {
    "colab": {
     "base_uri": "https://localhost:8080/",
     "height": 85
    },
    "colab_type": "code",
    "id": "Efp4NDHxLapt",
    "outputId": "2d565521-c34f-4cc4-f3e6-06eb213a2d8f"
   },
   "outputs": [
    {
     "name": "stdout",
     "output_type": "stream",
     "text": [
      "TPR  0.8721092782681631\n",
      "FPR  0.2030888030888031\n",
      "TNR  0.7969111969111969\n",
      "FNR  0.12789072173183688\n"
     ]
    }
   ],
   "source": [
    "# Calculating TPR , FPR , TNR , FNR\n",
    "TrueNeg,FalseNeg,FalsePos, TruePos = confusion_matrix(y_test, neigh.predict(X_test_vectors)).ravel()\n",
    "\n",
    "# TPR (TPR = TP/(FN+TP))\n",
    "TPR = TruePos/(FalseNeg + TruePos)\n",
    "print(\"TPR \" , TPR)\n",
    "\n",
    "# FPR (FPR = FP/(TN+FP))\n",
    "FPR = FalsePos/(TrueNeg + FalsePos)\n",
    "print(\"FPR \" , FPR)\n",
    "\n",
    "# TNR (TNR = TN/(TN+FP))\n",
    "TNR = TrueNeg/(TrueNeg + FalsePos)\n",
    "print(\"TNR \" , TNR)\n",
    "\n",
    "# FNR (FNR = TN/(FN+TP))\n",
    "FNR = FalseNeg/(FalseNeg + TruePos)\n",
    "print(\"FNR \" , FNR)\n"
   ]
  },
  {
   "cell_type": "markdown",
   "metadata": {
    "colab_type": "text",
    "id": "aijwRsXzjiE3"
   },
   "source": [
    "### [5.1.4] Applying KNN brute force on TFIDF W2V,<font color='red'> SET 4</font>"
   ]
  },
  {
   "cell_type": "code",
   "execution_count": 0,
   "metadata": {
    "colab": {},
    "colab_type": "code",
    "id": "jyyLMavejiE4"
   },
   "outputs": [],
   "source": [
    "# Please write all the code with proper documentation"
   ]
  },
  {
   "cell_type": "code",
   "execution_count": 60,
   "metadata": {
    "colab": {
     "base_uri": "https://localhost:8080/",
     "height": 68
    },
    "colab_type": "code",
    "id": "8Yz-oKhntDQs",
    "outputId": "993130af-e228-49b8-bef8-ec4d4f1318b4"
   },
   "outputs": [
    {
     "name": "stderr",
     "output_type": "stream",
     "text": [
      "100%|██████████| 41165/41165 [21:52<00:00, 31.36it/s]\n",
      "100%|██████████| 26332/26332 [14:14<00:00, 31.13it/s]\n",
      "100%|██████████| 20276/20276 [10:48<00:00, 31.28it/s]\n"
     ]
    }
   ],
   "source": [
    "# Please write all the code with proper documentation\n",
    "\n",
    "model = TfidfVectorizer()\n",
    "tf_idf_matrix = model.fit_transform(X_train_cv)\n",
    "# we are converting a dictionary with word as a key, and the idf as a value\n",
    "dictionary = dict(zip(model.get_feature_names(), list(model.idf_)))\n",
    "\n",
    "tfidf_feat = model.get_feature_names() # tfidf words/col-names\n",
    "# final_tf_idf is the sparse matrix with row= sentence, col=word and cell_val = tfidf\n",
    "\n",
    "X_train_tfidfw2v = []; # the tfidf-w2v for each sentence/review is stored in this list\n",
    "row=0;\n",
    "for sent in tqdm(X_train_sentance): # for each review/sentence \n",
    "    sent_vec = np.zeros(100) # as word vectors are of zero length\n",
    "    weight_sum =0; # num of words with a valid vector in the sentence/review\n",
    "    for word in sent: # for each word in a review/sentence\n",
    "        if word in w2v_words and word in tfidf_feat:\n",
    "            vec = w2v_model.wv[word]\n",
    "      \n",
    "            tf_idf = dictionary[word]*(sent.count(word)/len(sent))\n",
    "            sent_vec += (vec * tf_idf)\n",
    "            weight_sum += tf_idf\n",
    "    if weight_sum != 0:\n",
    "        sent_vec /= weight_sum\n",
    "    X_train_tfidfw2v.append(sent_vec)\n",
    "    row += 1\n",
    "    \n",
    "    \n",
    "X_test_tfidfw2v = []; # the tfidf-w2v for each sentence/review is stored in this list\n",
    "row=0;\n",
    "for sent in tqdm(X_test_sentance): # for each review/sentence \n",
    "    sent_vec = np.zeros(100) # as word vectors are of zero length\n",
    "    weight_sum =0; # num of words with a valid vector in the sentence/review\n",
    "    for word in sent: # for each word in a review/sentence\n",
    "        if word in w2v_words and word in tfidf_feat:\n",
    "            vec = w2v_model.wv[word]\n",
    "            \n",
    "            tf_idf = dictionary[word]*(sent.count(word)/len(sent))\n",
    "            sent_vec += (vec * tf_idf)\n",
    "            weight_sum += tf_idf\n",
    "    if weight_sum != 0:\n",
    "        sent_vec /= weight_sum\n",
    "    X_test_tfidfw2v.append(sent_vec)\n",
    "    row += 1\n",
    "    \n",
    "    \n",
    "    \n",
    "X_cv_tfidfw2v = []; # the tfidf-w2v for each sentence/review is stored in this list\n",
    "row=0;\n",
    "for sent in tqdm(X_cv_sentance): # for each review/sentence \n",
    "    sent_vec = np.zeros(100) # as word vectors are of zero length\n",
    "    weight_sum =0; # num of words with a valid vector in the sentence/review\n",
    "    for word in sent: # for each word in a review/sentence\n",
    "        if word in w2v_words and word in tfidf_feat:\n",
    "            vec = w2v_model.wv[word]\n",
    "            \n",
    "            tf_idf = dictionary[word]*(sent.count(word)/len(sent))\n",
    "            sent_vec += (vec * tf_idf)\n",
    "            weight_sum += tf_idf\n",
    "    if weight_sum != 0:\n",
    "        sent_vec /= weight_sum\n",
    "    X_cv_tfidfw2v.append(sent_vec)\n",
    "    row += 1"
   ]
  },
  {
   "cell_type": "code",
   "execution_count": 61,
   "metadata": {
    "colab": {
     "base_uri": "https://localhost:8080/",
     "height": 294
    },
    "colab_type": "code",
    "id": "M3a7aFF7tcVO",
    "outputId": "524a7e3e-dd08-4ff9-9097-f4fe968ad26a"
   },
   "outputs": [
    {
     "data": {
      "image/png": "[encoded data removed]",
      "text/plain": [
       "<Figure size 432x288 with 1 Axes>"
      ]
     },
     "metadata": {
      "tags": []
     },
     "output_type": "display_data"
    }
   ],
   "source": [
    "#finding best k- value using loop\n",
    "\n",
    "from sklearn.neighbors import KNeighborsClassifier\n",
    "from sklearn.metrics import roc_auc_score\n",
    "import matplotlib.pyplot as plt\n",
    "\n",
    "train_auc = []\n",
    "cv_auc = []\n",
    "K = [1, 5, 10, 15, 21, 31, 41, 51]\n",
    "for i in K:\n",
    "  neigh = KNeighborsClassifier(n_neighbors=i,algorithm = \"brute\")\n",
    "  neigh.fit(X_train_tfidfw2v, y_train_cv)\n",
    "  y_train_pred = []\n",
    "  y_train_pred.extend(neigh.predict_proba(X_train_tfidfw2v)[:,1])  \n",
    "  y_cv_pred = []\n",
    "  y_cv_pred.extend(neigh.predict_proba(X_cv_tfidfw2v)[:,1])\n",
    "  train_auc.append(roc_auc_score(y_train_cv,y_train_pred))\n",
    "  cv_auc.append(roc_auc_score(y_cv, y_cv_pred))\n",
    "\n",
    "plt.plot(K, train_auc, label='Train AUC')\n",
    "plt.plot(K, cv_auc, label='CV AUC')\n",
    "plt.legend()\n",
    "plt.xlabel(\"K: hyperparameter\")\n",
    "plt.ylabel(\"AUC\")\n",
    "plt.title(\"ERROR PLOTS\")\n",
    "plt.show()"
   ]
  },
  {
   "cell_type": "code",
   "execution_count": 0,
   "metadata": {
    "colab": {},
    "colab_type": "code",
    "id": "zeEost07Pe7c"
   },
   "outputs": [],
   "source": [
    "best_k_tfidfW2V = 51"
   ]
  },
  {
   "cell_type": "code",
   "execution_count": 94,
   "metadata": {
    "colab": {
     "base_uri": "https://localhost:8080/",
     "height": 294
    },
    "colab_type": "code",
    "id": "xJaB-hHzPkHb",
    "outputId": "149cbdb2-8447-4311-b23b-8388caa5c1bc"
   },
   "outputs": [
    {
     "data": {
      "image/png": "[encoded data removed]",
      "text/plain": [
       "<Figure size 432x288 with 1 Axes>"
      ]
     },
     "metadata": {
      "tags": []
     },
     "output_type": "display_data"
    }
   ],
   "source": [
    "#testing the data\n",
    "\n",
    "from sklearn.neighbors import KNeighborsClassifier\n",
    "from sklearn.metrics import roc_curve, auc\n",
    "\n",
    "\n",
    "neigh = KNeighborsClassifier(n_neighbors=best_k_tfidfW2V)\n",
    "neigh.fit(X_train_tfidfw2v, y_train_cv)\n",
    "\n",
    "train_fpr, train_tpr, thresholds = roc_curve(y_train_cv, neigh.predict_proba(X_train_tfidfw2v)[:,1])\n",
    "test_fpr, test_tpr, thresholds = roc_curve(y_test, neigh.predict_proba(X_test_tfidfw2v)[:,1])\n",
    "\n",
    "train_tfidfW2V_Acc = auc(train_fpr, train_tpr)\n",
    "test_tfidfW2V_Acc = auc(test_fpr, test_tpr)\n",
    "\n",
    "plt.plot(train_fpr, train_tpr, label=\"train AUC =\"+str(auc(train_fpr, train_tpr)))\n",
    "plt.plot(test_fpr, test_tpr, label=\"test AUC =\"+str(auc(test_fpr, test_tpr)))\n",
    "plt.legend()\n",
    "plt.xlabel(\"False Positive Rate : FPR\")\n",
    "plt.ylabel(\"True Positive Rate : TPR\")\n",
    "plt.title(\"ROC Curve\")\n",
    "plt.show()\n",
    "\n"
   ]
  },
  {
   "cell_type": "code",
   "execution_count": 64,
   "metadata": {
    "colab": {
     "base_uri": "https://localhost:8080/",
     "height": 294
    },
    "colab_type": "code",
    "id": "V1wuGzaf5Pnm",
    "outputId": "d90c1485-0822-480b-d99f-8d4bf2790384"
   },
   "outputs": [
    {
     "data": {
      "image/png": "[encoded data removed]",
      "text/plain": [
       "<Figure size 432x288 with 2 Axes>"
      ]
     },
     "metadata": {
      "tags": []
     },
     "output_type": "display_data"
    }
   ],
   "source": [
    "conf_matrix = confusion_matrix(y_train_cv, neigh.predict(X_train_tfidfw2v))\n",
    "class_label = [0, 1]\n",
    "df_conf_matrix = pd.DataFrame(\n",
    "    conf_matrix, index=class_label, columns=class_label)\n",
    "sns.heatmap(df_conf_matrix, annot=True, fmt='d')\n",
    "plt.title(\"Confusion Matrix for train data\")\n",
    "plt.xlabel(\"Predicted\")\n",
    "plt.ylabel(\"Actual\")\n",
    "plt.show()"
   ]
  },
  {
   "cell_type": "code",
   "execution_count": 65,
   "metadata": {
    "colab": {
     "base_uri": "https://localhost:8080/",
     "height": 294
    },
    "colab_type": "code",
    "id": "oq3ruWCZ0tiS",
    "outputId": "fee3ecf3-a29d-4327-833b-01ddeb04f0a0"
   },
   "outputs": [
    {
     "data": {
      "image/png": "[encoded data removed]",
      "text/plain": [
       "<Figure size 432x288 with 2 Axes>"
      ]
     },
     "metadata": {
      "tags": []
     },
     "output_type": "display_data"
    }
   ],
   "source": [
    "conf_matrix = confusion_matrix(y_test, neigh.predict(X_test_tfidfw2v))\n",
    "class_label = [0, 1]\n",
    "df_conf_matrix = pd.DataFrame(\n",
    "    conf_matrix, index=class_label, columns=class_label)\n",
    "sns.heatmap(df_conf_matrix, annot=True, fmt='d')\n",
    "plt.title(\"Confusion Matrix for test data\")\n",
    "plt.xlabel(\"Predicted\")\n",
    "plt.ylabel(\"Actual\")\n",
    "plt.show()"
   ]
  },
  {
   "cell_type": "code",
   "execution_count": 66,
   "metadata": {
    "colab": {
     "base_uri": "https://localhost:8080/",
     "height": 85
    },
    "colab_type": "code",
    "id": "bhrFD9aK6f65",
    "outputId": "5c06e838-f28b-437f-c640-62cf10ea88e1"
   },
   "outputs": [
    {
     "name": "stdout",
     "output_type": "stream",
     "text": [
      "TPR  0.8648841072699944\n",
      "FPR  0.22095238095238096\n",
      "TNR  0.7790476190476191\n",
      "FNR  0.13511589273000554\n"
     ]
    }
   ],
   "source": [
    "# Calculating TPR , FPR , TNR , FNR\n",
    "TrueNeg,FalseNeg,FalsePos, TruePos = confusion_matrix(y_test, neigh.predict(X_test_tfidfw2v)).ravel()\n",
    "\n",
    "# TPR (TPR = TP/(FN+TP))\n",
    "TPR = TruePos/(FalseNeg + TruePos)\n",
    "print(\"TPR \" , TPR)\n",
    "\n",
    "# FPR (FPR = FP/(TN+FP))\n",
    "FPR = FalsePos/(TrueNeg + FalsePos)\n",
    "print(\"FPR \" , FPR)\n",
    "\n",
    "# TNR (TNR = TN/(TN+FP))\n",
    "TNR = TrueNeg/(TrueNeg + FalsePos)\n",
    "print(\"TNR \" , TNR)\n",
    "\n",
    "# FNR (FNR = TN/(FN+TP))\n",
    "FNR = FalseNeg/(FalseNeg + TruePos)\n",
    "print(\"FNR \" , FNR)\n"
   ]
  },
  {
   "cell_type": "markdown",
   "metadata": {
    "colab_type": "text",
    "id": "vlWOM1zFjiE5"
   },
   "source": [
    "## [5.2] Applying KNN kd-tree"
   ]
  },
  {
   "cell_type": "markdown",
   "metadata": {
    "colab_type": "text",
    "id": "HF_NWN31jiE6"
   },
   "source": [
    "### [5.2.1] Applying KNN kd-tree on BOW,<font color='red'> SET 5</font>"
   ]
  },
  {
   "cell_type": "code",
   "execution_count": 0,
   "metadata": {
    "colab": {},
    "colab_type": "code",
    "id": "v4ACwllUjiE7"
   },
   "outputs": [],
   "source": [
    "# Please write all the code with proper documentation"
   ]
  },
  {
   "cell_type": "code",
   "execution_count": 68,
   "metadata": {
    "colab": {
     "base_uri": "https://localhost:8080/",
     "height": 34
    },
    "colab_type": "code",
    "id": "UdPhC5tn-8A7",
    "outputId": "e78b7215-9a9c-41a9-8158-7e690d443b25"
   },
   "outputs": [
    {
     "data": {
      "text/plain": [
       "(87773, 13)"
      ]
     },
     "execution_count": 68,
     "metadata": {
      "tags": []
     },
     "output_type": "execute_result"
    }
   ],
   "source": [
    "final.shape\n",
    "#final.head(3)"
   ]
  },
  {
   "cell_type": "code",
   "execution_count": 0,
   "metadata": {
    "colab": {},
    "colab_type": "code",
    "id": "02AgMKPpJ-1Q"
   },
   "outputs": [],
   "source": [
    "final_25k = final[: 25000]"
   ]
  },
  {
   "cell_type": "code",
   "execution_count": 27,
   "metadata": {
    "colab": {
     "base_uri": "https://localhost:8080/",
     "height": 34
    },
    "colab_type": "code",
    "id": "pxlxD_ivKC_6",
    "outputId": "cafb4b2f-b0ab-4c21-b608-3600e2b2fe2a"
   },
   "outputs": [
    {
     "data": {
      "text/plain": [
       "(25000, 10)"
      ]
     },
     "execution_count": 27,
     "metadata": {
      "tags": []
     },
     "output_type": "execute_result"
    }
   ],
   "source": [
    "final_25k.shape"
   ]
  },
  {
   "cell_type": "code",
   "execution_count": 28,
   "metadata": {
    "colab": {
     "base_uri": "https://localhost:8080/",
     "height": 34
    },
    "colab_type": "code",
    "id": "Myyzvd0IKNX2",
    "outputId": "ff4ce2ef-17f3-4a53-a41c-9c270b05c61d"
   },
   "outputs": [
    {
     "name": "stderr",
     "output_type": "stream",
     "text": [
      "100%|██████████| 25000/25000 [00:10<00:00, 2325.43it/s]\n"
     ]
    }
   ],
   "source": [
    "# Combining all the above stundents and preprocessing the Review text data\n",
    "from tqdm import tqdm\n",
    "preprocessed_reviews = []\n",
    "# tqdm is for printing the status bar\n",
    "for sentance in tqdm(final_25k['Text'].values):\n",
    "    sentance = re.sub(r\"http\\S+\", \"\", sentance)\n",
    "    sentance = BeautifulSoup(sentance, 'lxml').get_text()\n",
    "    sentance = decontracted(sentance)\n",
    "    sentance = re.sub(\"\\S*\\d\\S*\", \"\", sentance).strip()\n",
    "    sentance = re.sub('[^A-Za-z]+', ' ', sentance)\n",
    "    # https://gist.github.com/sebleier/554280\n",
    "    sentance = ' '.join(e.lower() for e in sentance.split() if e.lower() not in stopwords)\n",
    "    preprocessed_reviews.append(sentance.strip())"
   ]
  },
  {
   "cell_type": "code",
   "execution_count": 29,
   "metadata": {
    "colab": {
     "base_uri": "https://localhost:8080/",
     "height": 34
    },
    "colab_type": "code",
    "id": "Gh9jTAA_KNjr",
    "outputId": "43dcedf9-cc5b-4be0-905b-e6b2f49f0e0e"
   },
   "outputs": [
    {
     "name": "stderr",
     "output_type": "stream",
     "text": [
      "100%|██████████| 25000/25000 [00:08<00:00, 3101.25it/s]\n"
     ]
    }
   ],
   "source": [
    "# Combining all the above stundents and preprocessing the summary data\n",
    "from tqdm import tqdm\n",
    "preprocessed_summary = []\n",
    "# tqdm is for printing the status bar\n",
    "for sentance in tqdm(final_25k['Summary'].values):\n",
    "    sentance = re.sub(r\"http\\S+\", \"\", sentance)\n",
    "    sentance = BeautifulSoup(sentance, 'lxml').get_text()\n",
    "    sentance = decontracted(sentance)\n",
    "    sentance = re.sub(\"\\S*\\d\\S*\", \"\", sentance).strip()\n",
    "    sentance = re.sub('[^A-Za-z]+', ' ', sentance)\n",
    "    # https://gist.github.com/sebleier/554280\n",
    "    sentance = ' '.join(e.lower() for e in sentance.split() if e.lower() not in stopwords)\n",
    "    preprocessed_summary.append(sentance.strip())"
   ]
  },
  {
   "cell_type": "code",
   "execution_count": 30,
   "metadata": {
    "colab": {
     "base_uri": "https://localhost:8080/",
     "height": 400
    },
    "colab_type": "code",
    "id": "K9bB1EmIKb7E",
    "outputId": "c8848483-21e8-44f1-b389-262ddafe11f5"
   },
   "outputs": [
    {
     "data": {
      "text/html": [
       "<div>\n",
       "<style scoped>\n",
       "    .dataframe tbody tr th:only-of-type {\n",
       "        vertical-align: middle;\n",
       "    }\n",
       "\n",
       "    .dataframe tbody tr th {\n",
       "        vertical-align: top;\n",
       "    }\n",
       "\n",
       "    .dataframe thead th {\n",
       "        text-align: right;\n",
       "    }\n",
       "</style>\n",
       "<table border=\"1\" class=\"dataframe\">\n",
       "  <thead>\n",
       "    <tr style=\"text-align: right;\">\n",
       "      <th></th>\n",
       "      <th>Id</th>\n",
       "      <th>ProductId</th>\n",
       "      <th>UserId</th>\n",
       "      <th>ProfileName</th>\n",
       "      <th>HelpfulnessNumerator</th>\n",
       "      <th>HelpfulnessDenominator</th>\n",
       "      <th>Score</th>\n",
       "      <th>Time</th>\n",
       "      <th>Summary</th>\n",
       "      <th>Text</th>\n",
       "      <th>PreprocessedText</th>\n",
       "      <th>PreprocessedSummary</th>\n",
       "      <th>Final_Text</th>\n",
       "    </tr>\n",
       "  </thead>\n",
       "  <tbody>\n",
       "    <tr>\n",
       "      <th>22620</th>\n",
       "      <td>24750</td>\n",
       "      <td>2734888454</td>\n",
       "      <td>A13ISQV0U9GZIC</td>\n",
       "      <td>Sandikaye</td>\n",
       "      <td>1</td>\n",
       "      <td>1</td>\n",
       "      <td>0</td>\n",
       "      <td>1192060800</td>\n",
       "      <td>made in china</td>\n",
       "      <td>My dogs loves this chicken but its a product f...</td>\n",
       "      <td>dogs loves chicken product china wont buying a...</td>\n",
       "      <td>made china</td>\n",
       "      <td>dogs loves chicken product china wont buying a...</td>\n",
       "    </tr>\n",
       "    <tr>\n",
       "      <th>22621</th>\n",
       "      <td>24751</td>\n",
       "      <td>2734888454</td>\n",
       "      <td>A1C298ITT645B6</td>\n",
       "      <td>Hugh G. Pritchard</td>\n",
       "      <td>0</td>\n",
       "      <td>0</td>\n",
       "      <td>1</td>\n",
       "      <td>1195948800</td>\n",
       "      <td>Dog Lover Delites</td>\n",
       "      <td>Our dogs just love them.  I saw them in a pet ...</td>\n",
       "      <td>dogs love saw pet store tag attached regarding...</td>\n",
       "      <td>dog lover delites</td>\n",
       "      <td>dogs love saw pet store tag attached regarding...</td>\n",
       "    </tr>\n",
       "    <tr>\n",
       "      <th>70677</th>\n",
       "      <td>76870</td>\n",
       "      <td>B00002N8SM</td>\n",
       "      <td>A19Q006CSFT011</td>\n",
       "      <td>Arlielle</td>\n",
       "      <td>0</td>\n",
       "      <td>0</td>\n",
       "      <td>0</td>\n",
       "      <td>1288396800</td>\n",
       "      <td>only one fruitfly stuck</td>\n",
       "      <td>I had an infestation of fruitflies, they were ...</td>\n",
       "      <td>infestation fruitflies literally everywhere fl...</td>\n",
       "      <td>one fruitfly stuck</td>\n",
       "      <td>infestation fruitflies literally everywhere fl...</td>\n",
       "    </tr>\n",
       "  </tbody>\n",
       "</table>\n",
       "</div>"
      ],
      "text/plain": [
       "          Id   ProductId          UserId        ProfileName  \\\n",
       "22620  24750  2734888454  A13ISQV0U9GZIC          Sandikaye   \n",
       "22621  24751  2734888454  A1C298ITT645B6  Hugh G. Pritchard   \n",
       "70677  76870  B00002N8SM  A19Q006CSFT011           Arlielle   \n",
       "\n",
       "       HelpfulnessNumerator  HelpfulnessDenominator  Score        Time  \\\n",
       "22620                     1                       1      0  1192060800   \n",
       "22621                     0                       0      1  1195948800   \n",
       "70677                     0                       0      0  1288396800   \n",
       "\n",
       "                       Summary  \\\n",
       "22620            made in china   \n",
       "22621        Dog Lover Delites   \n",
       "70677  only one fruitfly stuck   \n",
       "\n",
       "                                                    Text  \\\n",
       "22620  My dogs loves this chicken but its a product f...   \n",
       "22621  Our dogs just love them.  I saw them in a pet ...   \n",
       "70677  I had an infestation of fruitflies, they were ...   \n",
       "\n",
       "                                        PreprocessedText PreprocessedSummary  \\\n",
       "22620  dogs loves chicken product china wont buying a...          made china   \n",
       "22621  dogs love saw pet store tag attached regarding...   dog lover delites   \n",
       "70677  infestation fruitflies literally everywhere fl...  one fruitfly stuck   \n",
       "\n",
       "                                              Final_Text  \n",
       "22620  dogs loves chicken product china wont buying a...  \n",
       "22621  dogs love saw pet store tag attached regarding...  \n",
       "70677  infestation fruitflies literally everywhere fl...  "
      ]
     },
     "execution_count": 30,
     "metadata": {
      "tags": []
     },
     "output_type": "execute_result"
    }
   ],
   "source": [
    "#added preprocessed reviews\n",
    "#sample_preproc_revi\n",
    "final_25k['PreprocessedText'] = preprocessed_reviews\n",
    "final_25k['PreprocessedSummary'] = preprocessed_summary\n",
    "final_25k['Final_Text'] = final_25k['PreprocessedText'] + final_25k['PreprocessedSummary']\n",
    "final_25k.head(3)\n"
   ]
  },
  {
   "cell_type": "code",
   "execution_count": 0,
   "metadata": {
    "colab": {},
    "colab_type": "code",
    "id": "3VFn8CP5KmwV"
   },
   "outputs": [],
   "source": [
    "#sorting based on time\n",
    "final_25k[\"Time\"] = pd.to_datetime(final_25k[\"Time\"],unit=\"s\")\n",
    "final_25k = final_25k.sort_values( by =\"Time\")"
   ]
  },
  {
   "cell_type": "code",
   "execution_count": 32,
   "metadata": {
    "colab": {
     "base_uri": "https://localhost:8080/",
     "height": 85
    },
    "colab_type": "code",
    "id": "yA3i0__DKuwl",
    "outputId": "4cd215c5-f4fb-42ef-9c28-f7bdc70cf65a"
   },
   "outputs": [
    {
     "name": "stdout",
     "output_type": "stream",
     "text": [
      "(17500,) (17500,)\n",
      "(11725,) (11725,)\n",
      "(5775,) (5775,)\n",
      "(7500,) (7500,)\n"
     ]
    }
   ],
   "source": [
    "#splitting data into train , test\n",
    "X_train, X_test, y_train, y_test = train_test_split(\n",
    "    final_25k['Final_Text'], final_25k['Score'], test_size=0.30, random_state=0)\n",
    "\n",
    "X_train_cv, X_cv, y_train_cv, y_cv = train_test_split(X_train, y_train, test_size=0.33) \n",
    "\n",
    "print(X_train.shape, y_train.shape)\n",
    "print(X_train_cv.shape,y_train_cv.shape)\n",
    "print(X_cv.shape, y_cv.shape)\n",
    "print(X_test.shape, y_test.shape)\n"
   ]
  },
  {
   "cell_type": "code",
   "execution_count": 33,
   "metadata": {
    "colab": {
     "base_uri": "https://localhost:8080/",
     "height": 85
    },
    "colab_type": "code",
    "id": "y0FgIJ3VK8E3",
    "outputId": "c2104451-4e45-49b8-938e-1617131c94be"
   },
   "outputs": [
    {
     "name": "stdout",
     "output_type": "stream",
     "text": [
      "After vectorizations\n",
      "(11725, 100) (11725,)\n",
      "(5775, 100) (5775,)\n",
      "(7500, 100) (7500,)\n"
     ]
    }
   ],
   "source": [
    "from sklearn.decomposition import  TruncatedSVD\n",
    "vectorizer = CountVectorizer(min_df=10, max_features=500)\n",
    "vectorizer.fit(X_train_cv)\n",
    "\n",
    "X_train_cv_bow = vectorizer.transform(X_train_cv)\n",
    "X_cv_bow = vectorizer.transform(X_cv)\n",
    "X_test_bow = vectorizer.transform(X_test)\n",
    "\n",
    "svd = TruncatedSVD(n_components=100)\n",
    "\n",
    "\n",
    "x_train_dense_bow = svd.fit_transform(X_train_cv_bow)\n",
    "x_test_dense_bow = svd.transform(X_test_bow)\n",
    "x_cv_dense_bow = svd.transform(X_cv_bow)\n",
    "\n",
    "print(\"After vectorizations\")\n",
    "print(x_train_dense_bow.shape, y_train_cv.shape)\n",
    "print(x_cv_dense_bow.shape, y_cv.shape)\n",
    "print(x_test_dense_bow.shape, y_test.shape)"
   ]
  },
  {
   "cell_type": "code",
   "execution_count": 34,
   "metadata": {
    "colab": {
     "base_uri": "https://localhost:8080/",
     "height": 68
    },
    "colab_type": "code",
    "id": "n_Nbz7dSVl5R",
    "outputId": "6258a326-e7ef-4c84-9662-53b007cdd878"
   },
   "outputs": [
    {
     "name": "stdout",
     "output_type": "stream",
     "text": [
      "<class 'numpy.ndarray'>\n",
      "<class 'numpy.ndarray'>\n",
      "<class 'numpy.ndarray'>\n"
     ]
    }
   ],
   "source": [
    "print(type(x_train_dense_bow))\n",
    "print(type(x_cv_dense_bow))\n",
    "print(type(x_test_dense_bow))"
   ]
  },
  {
   "cell_type": "code",
   "execution_count": 35,
   "metadata": {
    "colab": {
     "base_uri": "https://localhost:8080/",
     "height": 294
    },
    "colab_type": "code",
    "id": "9yv18OwK--Ei",
    "outputId": "b7872daf-3dcc-446a-aee0-7ec28e49693e"
   },
   "outputs": [
    {
     "data": {
      "image/png": "[encoded data removed]",
      "text/plain": [
       "<Figure size 432x288 with 1 Axes>"
      ]
     },
     "metadata": {
      "tags": []
     },
     "output_type": "display_data"
    }
   ],
   "source": [
    "#finding best k- value using loop\n",
    "\n",
    "from sklearn.neighbors import KNeighborsClassifier\n",
    "from sklearn.metrics import roc_auc_score\n",
    "import matplotlib.pyplot as plt\n",
    "\n",
    "\n",
    "train_auc = []\n",
    "cv_auc = []\n",
    "K = [1, 5, 10, 15, 21, 31, 41, 51]\n",
    "for i in K:\n",
    "    neigh = KNeighborsClassifier(n_neighbors=i , algorithm = \"kd_tree\")\n",
    "    neigh.fit(x_train_dense_bow, y_train_cv)\n",
    "    \n",
    "    y_train_pred = []\n",
    "    y_train_pred.extend(neigh.predict_proba(x_train_dense_bow)[:,1])  \n",
    "    y_cv_pred = []\n",
    "    y_cv_pred.extend(neigh.predict_proba(x_cv_dense_bow)[:,1])\n",
    "\n",
    "\n",
    "    train_auc.append(roc_auc_score(y_train_cv,y_train_pred))\n",
    "    cv_auc.append(roc_auc_score(y_cv, y_cv_pred))\n",
    "\n",
    "\n",
    "plt.plot(K, train_auc, label='Train AUC')\n",
    "plt.plot(K, cv_auc, label='CV AUC')\n",
    "plt.legend()\n",
    "plt.xlabel(\"K: hyperparameter\")\n",
    "plt.ylabel(\"AUC\")\n",
    "plt.title(\"ERROR PLOTS\")\n",
    "plt.show()"
   ]
  },
  {
   "cell_type": "code",
   "execution_count": 0,
   "metadata": {
    "colab": {},
    "colab_type": "code",
    "id": "gd45EwGmWWtZ"
   },
   "outputs": [],
   "source": [
    "best_K_KD_BOW = 51"
   ]
  },
  {
   "cell_type": "code",
   "execution_count": 96,
   "metadata": {
    "colab": {
     "base_uri": "https://localhost:8080/",
     "height": 294
    },
    "colab_type": "code",
    "id": "0__oR9c7PJU6",
    "outputId": "6aeba16c-c056-4c7d-c985-de0048fbdc7e"
   },
   "outputs": [
    {
     "data": {
      "image/png": "[encoded data removed]",
      "text/plain": [
       "<Figure size 432x288 with 1 Axes>"
      ]
     },
     "metadata": {
      "tags": []
     },
     "output_type": "display_data"
    }
   ],
   "source": [
    "from sklearn.neighbors import KNeighborsClassifier\n",
    "from sklearn.metrics import roc_curve, auc\n",
    "\n",
    "\n",
    "neigh = KNeighborsClassifier(n_neighbors=best_K_KD_BOW,algorithm = \"kd_tree\")\n",
    "neigh.fit(x_train_dense_bow, y_train_cv)\n",
    "\n",
    "train_fpr, train_tpr, thresholds = roc_curve(y_train_cv, neigh.predict_proba(x_train_dense_bow)[:,1])\n",
    "test_fpr, test_tpr, thresholds = roc_curve(y_test, neigh.predict_proba(x_test_dense_bow)[:,1])\n",
    "\n",
    "train_BOW_KD_Acc = auc(train_fpr, train_tpr)\n",
    "test_BOW_KD_Acc = auc(test_fpr, test_tpr)\n",
    "\n",
    "plt.plot(train_fpr, train_tpr, label=\"train AUC =\"+str(auc(train_fpr, train_tpr)))\n",
    "plt.plot(test_fpr, test_tpr, label=\"test AUC =\"+str(auc(test_fpr, test_tpr)))\n",
    "plt.legend()\n",
    "plt.xlabel(\"False Positive Rate: FPR\")\n",
    "plt.ylabel(\"True Positive Rate : TPR\")\n",
    "plt.title(\"ROC Curve\")\n",
    "plt.show()"
   ]
  },
  {
   "cell_type": "code",
   "execution_count": 38,
   "metadata": {
    "colab": {
     "base_uri": "https://localhost:8080/",
     "height": 294
    },
    "colab_type": "code",
    "id": "5h9vL5Pk5ZGy",
    "outputId": "1248a266-5c2e-45ec-db47-7f07be4b4859"
   },
   "outputs": [
    {
     "data": {
      "image/png": "[encoded data removed]",
      "text/plain": [
       "<Figure size 432x288 with 2 Axes>"
      ]
     },
     "metadata": {
      "tags": []
     },
     "output_type": "display_data"
    }
   ],
   "source": [
    "conf_matrix = confusion_matrix(y_train_cv, neigh.predict(x_train_dense_bow))\n",
    "class_label = [0, 1]\n",
    "df_conf_matrix = pd.DataFrame(\n",
    "    conf_matrix, index=class_label, columns=class_label)\n",
    "sns.heatmap(df_conf_matrix, annot=True, fmt='d')\n",
    "plt.title(\"Confusion Matrix for train data\")\n",
    "plt.xlabel(\"Predicted\")\n",
    "plt.ylabel(\"Actual\")\n",
    "plt.show()"
   ]
  },
  {
   "cell_type": "code",
   "execution_count": 40,
   "metadata": {
    "colab": {
     "base_uri": "https://localhost:8080/",
     "height": 294
    },
    "colab_type": "code",
    "id": "e2SClfDAWvu3",
    "outputId": "77ae2336-702d-4a73-8a0b-b27e63e31014"
   },
   "outputs": [
    {
     "data": {
      "image/png": "[encoded data removed]",
      "text/plain": [
       "<Figure size 432x288 with 2 Axes>"
      ]
     },
     "metadata": {
      "tags": []
     },
     "output_type": "display_data"
    }
   ],
   "source": [
    "conf_matrix = confusion_matrix(y_test, neigh.predict(x_test_dense_bow))\n",
    "class_label = [0, 1]\n",
    "df_conf_matrix = pd.DataFrame(\n",
    "    conf_matrix, index=class_label, columns=class_label)\n",
    "sns.heatmap(df_conf_matrix, annot=True, fmt='d')\n",
    "plt.title(\"Confusion Matrix for test data\")\n",
    "plt.xlabel(\"Predicted\")\n",
    "plt.ylabel(\"Actual\")\n",
    "plt.show()"
   ]
  },
  {
   "cell_type": "code",
   "execution_count": 41,
   "metadata": {
    "colab": {
     "base_uri": "https://localhost:8080/",
     "height": 85
    },
    "colab_type": "code",
    "id": "T6YXG5zgX5GT",
    "outputId": "a66bdae8-9d32-4bd9-91b0-91b02d39b751"
   },
   "outputs": [
    {
     "name": "stdout",
     "output_type": "stream",
     "text": [
      "TPR  0.8622854750941816\n",
      "FPR  0.4024024024024024\n",
      "TNR  0.5975975975975976\n",
      "FNR  0.13771452490581834\n"
     ]
    }
   ],
   "source": [
    "# Calculating TPR , FPR , TNR , FNR\n",
    "TrueNeg,FalseNeg,FalsePos, TruePos = confusion_matrix(y_test, neigh.predict(x_test_dense_bow)).ravel()\n",
    "\n",
    "# TPR (TPR = TP/(FN+TP))\n",
    "TPR = TruePos/(FalseNeg + TruePos)\n",
    "print(\"TPR \" , TPR)\n",
    "\n",
    "# FPR (FPR = FP/(TN+FP))\n",
    "FPR = FalsePos/(TrueNeg + FalsePos)\n",
    "print(\"FPR \" , FPR)\n",
    "\n",
    "# TNR (TNR = TN/(TN+FP))\n",
    "TNR = TrueNeg/(TrueNeg + FalsePos)\n",
    "print(\"TNR \" , TNR)\n",
    "\n",
    "# FNR (FNR = TN/(FN+TP))\n",
    "FNR = FalseNeg/(FalseNeg + TruePos)\n",
    "print(\"FNR \" , FNR)\n"
   ]
  },
  {
   "cell_type": "markdown",
   "metadata": {
    "colab_type": "text",
    "id": "S9pfJYBtjiFA"
   },
   "source": [
    "### [5.2.2] Applying KNN kd-tree on TFIDF,<font color='red'> SET 6</font>"
   ]
  },
  {
   "cell_type": "code",
   "execution_count": 0,
   "metadata": {
    "colab": {},
    "colab_type": "code",
    "id": "hE_o-ko1jiFB"
   },
   "outputs": [],
   "source": [
    "# Please write all the code with proper documentation"
   ]
  },
  {
   "cell_type": "code",
   "execution_count": 43,
   "metadata": {
    "colab": {
     "base_uri": "https://localhost:8080/",
     "height": 85
    },
    "colab_type": "code",
    "id": "kl-MTWM4XTV0",
    "outputId": "178d34c0-299c-4d4b-bb84-970e184d19a3"
   },
   "outputs": [
    {
     "name": "stdout",
     "output_type": "stream",
     "text": [
      "After vectorizations\n",
      "(11725, 100) (11725,)\n",
      "(5775, 100) (5775,)\n",
      "(7500, 100) (7500,)\n"
     ]
    }
   ],
   "source": [
    "#fitting to train data\n",
    "tf_idf_vect = TfidfVectorizer(min_df=10 , max_features=500)\n",
    "tf_idf_vect.fit(X_train_cv)\n",
    "\n",
    "X_train_tfidf = tf_idf_vect.transform(X_train_cv)\n",
    "X_CV_tfidf = tf_idf_vect.transform(X_cv)\n",
    "X_test_tfidf = tf_idf_vect.transform(X_test)\n",
    "\n",
    "svd2 = TruncatedSVD(n_components=100)\n",
    "\n",
    "x_train_dense_tfidf = svd2.fit_transform(X_train_tfidf)\n",
    "x_cv_dense_tfidf = svd2.transform(X_CV_tfidf)\n",
    "x_test_dense_tfidf = svd2.transform(X_test_tfidf)\n",
    "\n",
    "print(\"After vectorizations\")\n",
    "print(x_train_dense_tfidf.shape, y_train_cv.shape)\n",
    "print(x_cv_dense_tfidf.shape, y_cv.shape)\n",
    "print(x_test_dense_tfidf.shape, y_test.shape)\n",
    "\n"
   ]
  },
  {
   "cell_type": "code",
   "execution_count": 44,
   "metadata": {
    "colab": {
     "base_uri": "https://localhost:8080/",
     "height": 68
    },
    "colab_type": "code",
    "id": "WFRMrag9bTI6",
    "outputId": "0819a99b-9ffe-4849-bfe6-b1784c21b31f"
   },
   "outputs": [
    {
     "name": "stdout",
     "output_type": "stream",
     "text": [
      "<class 'numpy.ndarray'>\n",
      "<class 'numpy.ndarray'>\n",
      "<class 'numpy.ndarray'>\n"
     ]
    }
   ],
   "source": [
    "print(type(x_train_dense_tfidf))\n",
    "print(type(x_cv_dense_tfidf))\n",
    "print(type(x_test_dense_tfidf))"
   ]
  },
  {
   "cell_type": "code",
   "execution_count": 45,
   "metadata": {
    "colab": {
     "base_uri": "https://localhost:8080/",
     "height": 294
    },
    "colab_type": "code",
    "id": "5eBbsDsueLHp",
    "outputId": "7badc2f3-7bf3-4640-df67-f94f12463b92"
   },
   "outputs": [
    {
     "data": {
      "image/png": "[encoded data removed]",
      "text/plain": [
       "<Figure size 432x288 with 1 Axes>"
      ]
     },
     "metadata": {
      "tags": []
     },
     "output_type": "display_data"
    }
   ],
   "source": [
    "from sklearn.neighbors import KNeighborsClassifier\n",
    "from sklearn.metrics import roc_auc_score\n",
    "import matplotlib.pyplot as plt\n",
    "\n",
    "train_auc = []\n",
    "cv_auc=[]\n",
    "k=[1,3,5,7,10,15,20,27,35,43,50,60,70]\n",
    "for i in k:\n",
    "  neigh = KNeighborsClassifier(n_neighbors=i , algorithm=\"kd_tree\")\n",
    "  neigh.fit(x_train_dense_tfidf,y_train_cv)\n",
    "  y_train_pred = []\n",
    "  y_train_pred.extend(neigh.predict_proba(x_train_dense_tfidf)[:,1])\n",
    "  y_cv_pred = []\n",
    "  y_cv_pred.extend(neigh.predict_proba(x_cv_dense_tfidf)[:,1])\n",
    "  \n",
    "  train_auc.append(roc_auc_score(y_train_cv,y_train_pred))\n",
    "  cv_auc.append(roc_auc_score(y_cv , y_cv_pred))\n",
    "  \n",
    "  \n",
    "plt.plot(k,train_auc , label = 'Train AUC')\n",
    "plt.plot(k,cv_auc , label = 'CV AUC')\n",
    "plt.legend()\n",
    "plt.xlabel(\"K - HyperParameter\")\n",
    "plt.ylabel(\"AUC\")\n",
    "plt.title(\"Error Plots\")\n",
    "plt.show()\n",
    "\n"
   ]
  },
  {
   "cell_type": "code",
   "execution_count": 0,
   "metadata": {
    "colab": {},
    "colab_type": "code",
    "id": "giP-X9nH2qN7"
   },
   "outputs": [],
   "source": [
    "best_k_KD_tfidf = 35 # as the k value , this will leads to overfitting"
   ]
  },
  {
   "cell_type": "code",
   "execution_count": 98,
   "metadata": {
    "colab": {
     "base_uri": "https://localhost:8080/",
     "height": 294
    },
    "colab_type": "code",
    "id": "EzbECPmWlACq",
    "outputId": "dc596ea3-66ed-4a39-b2a9-5bf9a1d21384"
   },
   "outputs": [
    {
     "data": {
      "image/png": "[encoded data removed]",
      "text/plain": [
       "<Figure size 432x288 with 1 Axes>"
      ]
     },
     "metadata": {
      "tags": []
     },
     "output_type": "display_data"
    }
   ],
   "source": [
    "from sklearn.neighbors import KNeighborsClassifier\n",
    "from sklearn.metrics import roc_curve,auc\n",
    "\n",
    "neigh = KNeighborsClassifier(n_neighbors=best_k_KD_tfidf,algorithm = \"kd_tree\")\n",
    "neigh.fit(x_train_dense_tfidf,y_train_cv)\n",
    "\n",
    "train_fpr , train_tpr , thresholds = roc_curve(y_train_cv , neigh.predict_proba(x_train_dense_tfidf)[:,1])\n",
    "test_fpr , test_tpr , thresholds = roc_curve(y_test, neigh.predict_proba(x_test_dense_tfidf)[:,1])\n",
    "\n",
    "train_tfidf_KD_Acc = auc(train_fpr,train_tpr)\n",
    "test_tfidf_KD_Acc = auc(test_fpr,test_tpr)\n",
    "\n",
    "plt.plot(train_fpr , train_tpr , label = \"train AUC =\"+str(auc(train_fpr,train_tpr)))\n",
    "plt.plot(test_fpr , test_tpr , label = \"test AUC \"+ str(auc(test_fpr,test_tpr)))\n",
    "plt.legend()\n",
    "plt.xlabel( \"False Positive Rate: FPR \" )\n",
    "plt.ylabel(\"True Positive Rate: TPR \")\n",
    "plt.title(\"ROC Plots\")\n",
    "plt.show()"
   ]
  },
  {
   "cell_type": "code",
   "execution_count": 48,
   "metadata": {
    "colab": {
     "base_uri": "https://localhost:8080/",
     "height": 294
    },
    "colab_type": "code",
    "id": "R2Q339Wa5iOh",
    "outputId": "0b84b475-a648-4d38-9de1-11f344984c73"
   },
   "outputs": [
    {
     "data": {
      "image/png": "[encoded data removed]",
      "text/plain": [
       "<Figure size 432x288 with 2 Axes>"
      ]
     },
     "metadata": {
      "tags": []
     },
     "output_type": "display_data"
    }
   ],
   "source": [
    "conf_matrix = confusion_matrix(y_train_cv, neigh.predict(x_train_dense_tfidf))\n",
    "class_label = [0, 1]\n",
    "df_conf_matrix = pd.DataFrame(\n",
    "    conf_matrix, index=class_label, columns=class_label)\n",
    "sns.heatmap(df_conf_matrix, annot=True, fmt='d')\n",
    "plt.title(\"Confusion Matrix for train data\")\n",
    "plt.xlabel(\"Predicted\")\n",
    "plt.ylabel(\"Actual\")\n",
    "plt.show()"
   ]
  },
  {
   "cell_type": "code",
   "execution_count": 49,
   "metadata": {
    "colab": {
     "base_uri": "https://localhost:8080/",
     "height": 294
    },
    "colab_type": "code",
    "id": "Pz6Dxu368sFO",
    "outputId": "92efa2de-b045-4b6e-a227-babc0d3b0b46"
   },
   "outputs": [
    {
     "data": {
      "image/png": "[encoded data removed]",
      "text/plain": [
       "<Figure size 432x288 with 2 Axes>"
      ]
     },
     "metadata": {
      "tags": []
     },
     "output_type": "display_data"
    }
   ],
   "source": [
    "conf_matrix = confusion_matrix(y_test, neigh.predict(x_test_dense_tfidf))\n",
    "class_label = [0, 1]\n",
    "df_conf_matrix = pd.DataFrame(\n",
    "    conf_matrix, index=class_label, columns=class_label)\n",
    "sns.heatmap(df_conf_matrix, annot=True, fmt='d')\n",
    "plt.title(\"Confusion Matrix for test data\")\n",
    "plt.xlabel(\"Predicted\")\n",
    "plt.ylabel(\"Actual\")\n",
    "plt.show()"
   ]
  },
  {
   "cell_type": "code",
   "execution_count": 50,
   "metadata": {
    "colab": {
     "base_uri": "https://localhost:8080/",
     "height": 85
    },
    "colab_type": "code",
    "id": "PBgYmhPf9x4N",
    "outputId": "de268e77-8563-4a47-ffc6-2f38faadf77a"
   },
   "outputs": [
    {
     "name": "stdout",
     "output_type": "stream",
     "text": [
      "TPR  0.8610456247399806\n",
      "FPR  0.3633217993079585\n",
      "TNR  0.6366782006920415\n",
      "FNR  0.1389543752600194\n"
     ]
    }
   ],
   "source": [
    "# Calculating TPR , FPR , TNR , FNR\n",
    "TrueNeg,FalseNeg,FalsePos, TruePos = confusion_matrix(y_test, neigh.predict(x_test_dense_tfidf)).ravel()\n",
    "\n",
    "# TPR (TPR = TP/(FN+TP))\n",
    "TPR = TruePos/(FalseNeg + TruePos)\n",
    "print(\"TPR \" , TPR)\n",
    "\n",
    "# FPR (FPR = FP/(TN+FP))\n",
    "FPR = FalsePos/(TrueNeg + FalsePos)\n",
    "print(\"FPR \" , FPR)\n",
    "\n",
    "# TNR (TNR = TN/(TN+FP))\n",
    "TNR = TrueNeg/(TrueNeg + FalsePos)\n",
    "print(\"TNR \" , TNR)\n",
    "\n",
    "# FNR (FNR = TN/(FN+TP))\n",
    "FNR = FalseNeg/(FalseNeg + TruePos)\n",
    "print(\"FNR \" , FNR)\n"
   ]
  },
  {
   "cell_type": "markdown",
   "metadata": {
    "colab_type": "text",
    "id": "KkmvNBtdjiFW"
   },
   "source": [
    "### [5.2.3] Applying KNN kd-tree on AVG W2V,<font color='red'> SET 3</font>"
   ]
  },
  {
   "cell_type": "code",
   "execution_count": 0,
   "metadata": {
    "colab": {},
    "colab_type": "code",
    "id": "lKUzCJc1jiFX"
   },
   "outputs": [],
   "source": [
    "# Please write all the code with proper documentation"
   ]
  },
  {
   "cell_type": "code",
   "execution_count": 52,
   "metadata": {
    "colab": {
     "base_uri": "https://localhost:8080/",
     "height": 34
    },
    "colab_type": "code",
    "id": "i2Kd5JTSRfnJ",
    "outputId": "5514268b-a051-46b2-9066-5459af37b643"
   },
   "outputs": [
    {
     "name": "stdout",
     "output_type": "stream",
     "text": [
      "number of words that occured minimum 5 times  6800\n"
     ]
    }
   ],
   "source": [
    "# Train your own Word2Vec model using your own text corpus\n",
    "\n",
    "X_train_sentance=[]\n",
    "for sentance in X_train_cv:\n",
    "    X_train_sentance.append(sentance.split())\n",
    " \n",
    "X_test_sentance=[]\n",
    "for sentance in X_test:\n",
    "    X_test_sentance.append(sentance.split())\n",
    "\n",
    "X_cv_sentance=[]\n",
    "for sentance in X_cv:\n",
    "    X_cv_sentance.append(sentance.split())\n",
    "    \n",
    "w2v_model=Word2Vec(X_train_sentance,min_count=5,size=100, workers=4)\n",
    "\n",
    "\n",
    "w2v_words = list(w2v_model.wv.vocab)\n",
    "print(\"number of words that occured minimum 5 times \",len(w2v_words))\n",
    "\n",
    "X_train_vectors = []\n",
    "for sent in X_train_sentance:\n",
    "    sent_vec = np.zeros(100) \n",
    "    cnt_words =0; \n",
    "    for word in sent: # \n",
    "        if word in w2v_words:\n",
    "            vec = w2v_model.wv[word]\n",
    "            sent_vec += vec\n",
    "            cnt_words += 1\n",
    "    if cnt_words != 0:\n",
    "        sent_vec /= cnt_words\n",
    "    X_train_vectors.append(sent_vec)\n",
    "    \n",
    "\n",
    "X_test_vectors = []\n",
    "for sent in X_test_sentance:\n",
    "    sent_vec = np.zeros(100) \n",
    "    cnt_words =0; \n",
    "    for word in sent: # \n",
    "        if word in w2v_words:\n",
    "            vec = w2v_model.wv[word]\n",
    "            sent_vec += vec\n",
    "            cnt_words += 1\n",
    "    if cnt_words != 0:\n",
    "        sent_vec /= cnt_words\n",
    "    X_test_vectors.append(sent_vec)\n",
    "    \n",
    "  \n",
    "X_cv_vectors = []\n",
    "for sent in X_cv_sentance:\n",
    "    sent_vec = np.zeros(100) \n",
    "    cnt_words =0; \n",
    "    for word in sent: # \n",
    "        if word in w2v_words:\n",
    "            vec = w2v_model.wv[word]\n",
    "            sent_vec += vec\n",
    "            cnt_words += 1\n",
    "    if cnt_words != 0:\n",
    "        sent_vec /= cnt_words\n",
    "    X_cv_vectors.append(sent_vec)\n",
    "    \n"
   ]
  },
  {
   "cell_type": "code",
   "execution_count": 53,
   "metadata": {
    "colab": {
     "base_uri": "https://localhost:8080/",
     "height": 294
    },
    "colab_type": "code",
    "id": "bi20UC7D-BWQ",
    "outputId": "28f4bd46-38aa-42b9-9493-91abc5bc340b"
   },
   "outputs": [
    {
     "data": {
      "image/png": "[encoded data removed]",
      "text/plain": [
       "<Figure size 432x288 with 1 Axes>"
      ]
     },
     "metadata": {
      "tags": []
     },
     "output_type": "display_data"
    }
   ],
   "source": [
    "train_auc = []\n",
    "cv_auc = []\n",
    "K = [1, 5, 10, 15, 21, 31, 41, 51]\n",
    "for i in K:\n",
    "    neigh = KNeighborsClassifier(n_neighbors=i,algorithm=\"kd_tree\")\n",
    "    neigh.fit(X_train_vectors, y_train_cv)\n",
    "    # roc_auc_score(y_true, y_score) the 2nd parameter should be probability estimates of the positive class\n",
    "    # not the predicted outputs\n",
    "    y_train_pred =  neigh.predict_proba(X_train_vectors)[:,1]\n",
    "    y_cv_pred =  neigh.predict_proba(X_cv_vectors)[:,1]\n",
    "    \n",
    "    train_auc.append(roc_auc_score(y_train_cv,y_train_pred))\n",
    "    cv_auc.append(roc_auc_score(y_cv, y_cv_pred))\n",
    "\n",
    "plt.plot(K, train_auc, label='Train AUC')\n",
    "plt.plot(K, cv_auc, label='CV AUC')\n",
    "plt.legend()\n",
    "plt.xlabel(\"K: hyperparameter\")\n",
    "plt.ylabel(\"AUC\")\n",
    "plt.title(\"ERROR PLOTS\")\n",
    "plt.show()"
   ]
  },
  {
   "cell_type": "code",
   "execution_count": 0,
   "metadata": {
    "colab": {},
    "colab_type": "code",
    "id": "OhjkQ9RDUDR7"
   },
   "outputs": [],
   "source": [
    "best_k_KD_AvgW2V = 51"
   ]
  },
  {
   "cell_type": "code",
   "execution_count": 100,
   "metadata": {
    "colab": {
     "base_uri": "https://localhost:8080/",
     "height": 294
    },
    "colab_type": "code",
    "id": "yPQ80adfSqfk",
    "outputId": "50a1c11e-7e8f-41b2-b592-6db3301ac264"
   },
   "outputs": [
    {
     "data": {
      "image/png": "[encoded data removed]",
      "text/plain": [
       "<Figure size 432x288 with 1 Axes>"
      ]
     },
     "metadata": {
      "tags": []
     },
     "output_type": "display_data"
    }
   ],
   "source": [
    "from sklearn.neighbors import KNeighborsClassifier\n",
    "from sklearn.metrics import roc_curve,auc\n",
    "\n",
    "neigh = KNeighborsClassifier(n_neighbors=best_k_KD_AvgW2V,algorithm = \"kd_tree\")\n",
    "neigh.fit(X_train_vectors,y_train_cv)\n",
    "\n",
    "train_fpr , train_tpr , thresholds = roc_curve(y_train_cv , neigh.predict_proba(X_train_vectors)[:,1])\n",
    "test_fpr , test_tpr , thresholds = roc_curve(y_test, neigh.predict_proba(X_test_vectors)[:,1])\n",
    "\n",
    "train_KD_AvgW2V_Acc = auc(train_fpr,train_tpr)\n",
    "test_KD_AvgW2V_Acc = auc(test_fpr,test_tpr)\n",
    "\n",
    "plt.plot(train_fpr , train_tpr , label = \"train AUC =\"+str(auc(train_fpr,train_tpr)))\n",
    "plt.plot(test_fpr , test_tpr , label = \"test AUC \"+ str(auc(test_fpr,test_tpr)))\n",
    "plt.legend()\n",
    "plt.xlabel( \"False Positive Rate: FPR \" )\n",
    "plt.ylabel(\"True Positive Rate: TPR \")\n",
    "plt.title(\"ROC Plots\")\n",
    "plt.show()"
   ]
  },
  {
   "cell_type": "code",
   "execution_count": 56,
   "metadata": {
    "colab": {
     "base_uri": "https://localhost:8080/",
     "height": 294
    },
    "colab_type": "code",
    "id": "5dv8z-pR5oHH",
    "outputId": "62f5f1c4-4cca-4718-9678-71a1579f18ca"
   },
   "outputs": [
    {
     "data": {
      "image/png": "[encoded data removed]",
      "text/plain": [
       "<Figure size 432x288 with 2 Axes>"
      ]
     },
     "metadata": {
      "tags": []
     },
     "output_type": "display_data"
    }
   ],
   "source": [
    "conf_matrix = confusion_matrix(y_train_cv, neigh.predict(X_train_vectors))\n",
    "class_label = [0, 1]\n",
    "df_conf_matrix = pd.DataFrame(\n",
    "    conf_matrix, index=class_label, columns=class_label)\n",
    "sns.heatmap(df_conf_matrix, annot=True, fmt='d')\n",
    "plt.title(\"Confusion Matrix for train data\")\n",
    "plt.xlabel(\"Predicted\")\n",
    "plt.ylabel(\"Actual\")\n",
    "plt.show()"
   ]
  },
  {
   "cell_type": "code",
   "execution_count": 57,
   "metadata": {
    "colab": {
     "base_uri": "https://localhost:8080/",
     "height": 294
    },
    "colab_type": "code",
    "id": "ft09kMmZUhAu",
    "outputId": "b353e6e6-2cc0-4134-d8d7-ae15b7afca96"
   },
   "outputs": [
    {
     "data": {
      "image/png": "[encoded data removed]",
      "text/plain": [
       "<Figure size 432x288 with 2 Axes>"
      ]
     },
     "metadata": {
      "tags": []
     },
     "output_type": "display_data"
    }
   ],
   "source": [
    "conf_matrix = confusion_matrix(y_test, neigh.predict(X_test_vectors))\n",
    "class_label = [0, 1]\n",
    "df_conf_matrix = pd.DataFrame(\n",
    "    conf_matrix, index=class_label, columns=class_label)\n",
    "sns.heatmap(df_conf_matrix, annot=True, fmt='d')\n",
    "plt.title(\"Confusion Matrix for test data\")\n",
    "plt.xlabel(\"Predicted\")\n",
    "plt.ylabel(\"Actual\")\n",
    "plt.show()"
   ]
  },
  {
   "cell_type": "code",
   "execution_count": 58,
   "metadata": {
    "colab": {
     "base_uri": "https://localhost:8080/",
     "height": 85
    },
    "colab_type": "code",
    "id": "_7we6AlaaX7s",
    "outputId": "7eb10b59-81d2-4204-d118-4703a56ec513"
   },
   "outputs": [
    {
     "name": "stdout",
     "output_type": "stream",
     "text": [
      "TPR  0.8473344103392568\n",
      "FPR  0.2777777777777778\n",
      "TNR  0.7222222222222222\n",
      "FNR  0.15266558966074315\n"
     ]
    }
   ],
   "source": [
    "# Calculating TPR , FPR , TNR , FNR\n",
    "TrueNeg,FalseNeg,FalsePos, TruePos = confusion_matrix(y_test, neigh.predict(X_test_vectors)).ravel()\n",
    "\n",
    "# TPR (TPR = TP/(FN+TP))\n",
    "TPR = TruePos/(FalseNeg + TruePos)\n",
    "print(\"TPR \" , TPR)\n",
    "\n",
    "# FPR (FPR = FP/(TN+FP))\n",
    "FPR = FalsePos/(TrueNeg + FalsePos)\n",
    "print(\"FPR \" , FPR)\n",
    "\n",
    "# TNR (TNR = TN/(TN+FP))\n",
    "TNR = TrueNeg/(TrueNeg + FalsePos)\n",
    "print(\"TNR \" , TNR)\n",
    "\n",
    "# FNR (FNR = TN/(FN+TP))\n",
    "FNR = FalseNeg/(FalseNeg + TruePos)\n",
    "print(\"FNR \" , FNR)\n"
   ]
  },
  {
   "cell_type": "markdown",
   "metadata": {
    "colab_type": "text",
    "id": "3qZ9exi4jiFe"
   },
   "source": [
    "### [5.2.4] Applying KNN kd-tree on TFIDF W2V,<font color='red'> SET 4</font>"
   ]
  },
  {
   "cell_type": "code",
   "execution_count": 0,
   "metadata": {
    "colab": {},
    "colab_type": "code",
    "id": "ydDMqq09jiFh"
   },
   "outputs": [],
   "source": [
    "# Please write all the code with proper documentation"
   ]
  },
  {
   "cell_type": "code",
   "execution_count": 60,
   "metadata": {
    "colab": {
     "base_uri": "https://localhost:8080/",
     "height": 68
    },
    "colab_type": "code",
    "id": "Caz-hoUeTxZ_",
    "outputId": "d58f0e12-2140-4a83-e69f-4fdd4a21fcd8"
   },
   "outputs": [
    {
     "name": "stderr",
     "output_type": "stream",
     "text": [
      "100%|██████████| 11725/11725 [03:14<00:00, 60.16it/s]\n",
      "100%|██████████| 7500/7500 [01:57<00:00, 63.56it/s]\n",
      "100%|██████████| 5775/5775 [01:33<00:00, 61.56it/s]\n"
     ]
    }
   ],
   "source": [
    "# Please write all the code with proper documentation\n",
    "\n",
    "model = TfidfVectorizer()\n",
    "tf_idf_matrix = model.fit_transform(X_train_cv)\n",
    "# we are converting a dictionary with word as a key, and the idf as a value\n",
    "dictionary = dict(zip(model.get_feature_names(), list(model.idf_)))\n",
    "\n",
    "tfidf_feat = model.get_feature_names() # tfidf words/col-names\n",
    "# final_tf_idf is the sparse matrix with row= sentence, col=word and cell_val = tfidf\n",
    "\n",
    "X_train_tfidfw2v = []; # the tfidf-w2v for each sentence/review is stored in this list\n",
    "row=0;\n",
    "for sent in tqdm(X_train_sentance): # for each review/sentence \n",
    "    sent_vec = np.zeros(100) # as word vectors are of zero length\n",
    "    weight_sum =0; # num of words with a valid vector in the sentence/review\n",
    "    for word in sent: # for each word in a review/sentence\n",
    "        if word in w2v_words and word in tfidf_feat:\n",
    "            vec = w2v_model.wv[word]\n",
    "      \n",
    "            tf_idf = dictionary[word]*(sent.count(word)/len(sent))\n",
    "            sent_vec += (vec * tf_idf)\n",
    "            weight_sum += tf_idf\n",
    "    if weight_sum != 0:\n",
    "        sent_vec /= weight_sum\n",
    "    X_train_tfidfw2v.append(sent_vec)\n",
    "    row += 1\n",
    "    \n",
    "    \n",
    "X_test_tfidfw2v = []; # the tfidf-w2v for each sentence/review is stored in this list\n",
    "row=0;\n",
    "for sent in tqdm(X_test_sentance): # for each review/sentence \n",
    "    sent_vec = np.zeros(100) # as word vectors are of zero length\n",
    "    weight_sum =0; # num of words with a valid vector in the sentence/review\n",
    "    for word in sent: # for each word in a review/sentence\n",
    "        if word in w2v_words and word in tfidf_feat:\n",
    "            vec = w2v_model.wv[word]\n",
    "            \n",
    "            tf_idf = dictionary[word]*(sent.count(word)/len(sent))\n",
    "            sent_vec += (vec * tf_idf)\n",
    "            weight_sum += tf_idf\n",
    "    if weight_sum != 0:\n",
    "        sent_vec /= weight_sum\n",
    "    X_test_tfidfw2v.append(sent_vec)\n",
    "    row += 1\n",
    "    \n",
    "    \n",
    "    \n",
    "X_cv_tfidfw2v = []; # the tfidf-w2v for each sentence/review is stored in this list\n",
    "row=0;\n",
    "for sent in tqdm(X_cv_sentance): # for each review/sentence \n",
    "    sent_vec = np.zeros(100) # as word vectors are of zero length\n",
    "    weight_sum =0; # num of words with a valid vector in the sentence/review\n",
    "    for word in sent: # for each word in a review/sentence\n",
    "        if word in w2v_words and word in tfidf_feat:\n",
    "            vec = w2v_model.wv[word]\n",
    "            \n",
    "            tf_idf = dictionary[word]*(sent.count(word)/len(sent))\n",
    "            sent_vec += (vec * tf_idf)\n",
    "            weight_sum += tf_idf\n",
    "    if weight_sum != 0:\n",
    "        sent_vec /= weight_sum\n",
    "    X_cv_tfidfw2v.append(sent_vec)\n",
    "    row += 1"
   ]
  },
  {
   "cell_type": "code",
   "execution_count": 61,
   "metadata": {
    "colab": {
     "base_uri": "https://localhost:8080/",
     "height": 294
    },
    "colab_type": "code",
    "id": "DPiHdeDyatvq",
    "outputId": "a360a62d-75ac-4c01-ad5d-a76a62454384"
   },
   "outputs": [
    {
     "data": {
      "image/png": "[encoded data removed]",
      "text/plain": [
       "<Figure size 432x288 with 1 Axes>"
      ]
     },
     "metadata": {
      "tags": []
     },
     "output_type": "display_data"
    }
   ],
   "source": [
    "#finding best k- value using loop\n",
    "\n",
    "from sklearn.neighbors import KNeighborsClassifier\n",
    "from sklearn.metrics import roc_auc_score\n",
    "import matplotlib.pyplot as plt\n",
    "\n",
    "train_auc = []\n",
    "cv_auc = []\n",
    "K = [1, 5, 10, 15, 21, 31, 41, 51]\n",
    "for i in K:\n",
    "    \n",
    "    neigh = KNeighborsClassifier(n_neighbors=i,algorithm = \"kd_tree\")\n",
    "    neigh.fit(X_train_tfidfw2v, y_train_cv)\n",
    "    y_train_pred = []\n",
    "    y_train_pred.extend(neigh.predict_proba(X_train_tfidfw2v)[:,1])  \n",
    "    y_cv_pred = []\n",
    "    y_cv_pred.extend(neigh.predict_proba(X_cv_tfidfw2v)[:,1])\n",
    "    train_auc.append(roc_auc_score(y_train_cv,y_train_pred))\n",
    "    cv_auc.append(roc_auc_score(y_cv, y_cv_pred))\n",
    "\n",
    "plt.plot(K, train_auc, label='Train AUC')\n",
    "plt.plot(K, cv_auc, label='CV AUC')\n",
    "plt.legend()\n",
    "plt.xlabel(\"K: hyperparameter\")\n",
    "plt.ylabel(\"AUC\")\n",
    "plt.title(\"ERROR PLOTS\")\n",
    "plt.show()"
   ]
  },
  {
   "cell_type": "code",
   "execution_count": 0,
   "metadata": {
    "colab": {},
    "colab_type": "code",
    "id": "L4GHuNXZbclr"
   },
   "outputs": [],
   "source": [
    "best_k_KD_tfidfw2v = 51"
   ]
  },
  {
   "cell_type": "code",
   "execution_count": 102,
   "metadata": {
    "colab": {
     "base_uri": "https://localhost:8080/",
     "height": 294
    },
    "colab_type": "code",
    "id": "XnchE5_9bZBa",
    "outputId": "6c74e1e1-aa45-4e5f-d4ed-24cc52a3c6ac"
   },
   "outputs": [
    {
     "data": {
      "image/png": "[encoded data removed]",
      "text/plain": [
       "<Figure size 432x288 with 1 Axes>"
      ]
     },
     "metadata": {
      "tags": []
     },
     "output_type": "display_data"
    }
   ],
   "source": [
    "#testing the data\n",
    "\n",
    "from sklearn.neighbors import KNeighborsClassifier\n",
    "from sklearn.metrics import roc_curve, auc\n",
    "\n",
    "\n",
    "neigh = KNeighborsClassifier(n_neighbors=best_k_KD_tfidfw2v)\n",
    "neigh.fit(X_train_tfidfw2v, y_train_cv)\n",
    "\n",
    "train_fpr, train_tpr, thresholds = roc_curve(y_train_cv, neigh.predict_proba(X_train_tfidfw2v)[:,1])\n",
    "test_fpr, test_tpr, thresholds = roc_curve(y_test, neigh.predict_proba(X_test_tfidfw2v)[:,1])\n",
    "\n",
    "train_tfidfw2v_KD_Acc = auc(train_fpr, train_tpr)\n",
    "test_tfidfw2v_KD_Acc = auc(test_fpr, test_tpr)\n",
    "\n",
    "plt.plot(train_fpr, train_tpr, label=\"train AUC =\"+str(auc(train_fpr, train_tpr)))\n",
    "plt.plot(test_fpr, test_tpr, label=\"test AUC =\"+str(auc(test_fpr, test_tpr)))\n",
    "plt.legend()\n",
    "plt.xlabel(\"False Positive Rate : FPR\")\n",
    "plt.ylabel(\"True Positive Rate : TPR\")\n",
    "plt.title(\"ROC Curve\")\n",
    "plt.show()\n",
    "\n"
   ]
  },
  {
   "cell_type": "code",
   "execution_count": 64,
   "metadata": {
    "colab": {
     "base_uri": "https://localhost:8080/",
     "height": 294
    },
    "colab_type": "code",
    "id": "hCK9ncDs5uG0",
    "outputId": "6bf3fc95-df8f-4e59-82a6-bec5fd654fc8"
   },
   "outputs": [
    {
     "data": {
      "image/png": "[encoded data removed]",
      "text/plain": [
       "<Figure size 432x288 with 2 Axes>"
      ]
     },
     "metadata": {
      "tags": []
     },
     "output_type": "display_data"
    }
   ],
   "source": [
    "conf_matrix = confusion_matrix(y_train_cv, neigh.predict(X_train_tfidfw2v))\n",
    "class_label = [0, 1]\n",
    "df_conf_matrix = pd.DataFrame(\n",
    "    conf_matrix, index=class_label, columns=class_label)\n",
    "sns.heatmap(df_conf_matrix, annot=True, fmt='d')\n",
    "plt.title(\"Confusion Matrix for train data\")\n",
    "plt.xlabel(\"Predicted\")\n",
    "plt.ylabel(\"Actual\")\n",
    "plt.show()"
   ]
  },
  {
   "cell_type": "code",
   "execution_count": 65,
   "metadata": {
    "colab": {
     "base_uri": "https://localhost:8080/",
     "height": 294
    },
    "colab_type": "code",
    "id": "zUyOevFIbpwl",
    "outputId": "9c157af9-e35c-46d3-d511-566a241274c8"
   },
   "outputs": [
    {
     "data": {
      "image/png": "[encoded data removed]",
      "text/plain": [
       "<Figure size 432x288 with 2 Axes>"
      ]
     },
     "metadata": {
      "tags": []
     },
     "output_type": "display_data"
    }
   ],
   "source": [
    "conf_matrix = confusion_matrix(y_test, neigh.predict(X_test_tfidfw2v))\n",
    "class_label = [0, 1]\n",
    "df_conf_matrix = pd.DataFrame(\n",
    "    conf_matrix, index=class_label, columns=class_label)\n",
    "sns.heatmap(df_conf_matrix, annot=True, fmt='d')\n",
    "plt.title(\"Confusion Matrix for test data\")\n",
    "plt.xlabel(\"Predicted\")\n",
    "plt.ylabel(\"Actual\")\n",
    "plt.show()"
   ]
  },
  {
   "cell_type": "code",
   "execution_count": 66,
   "metadata": {
    "colab": {
     "base_uri": "https://localhost:8080/",
     "height": 85
    },
    "colab_type": "code",
    "id": "MvdO0gwGb1bc",
    "outputId": "65720c0b-6ebb-4fa9-ef5b-9a7e773c9138"
   },
   "outputs": [
    {
     "name": "stdout",
     "output_type": "stream",
     "text": [
      "TPR  0.8448044991965721\n",
      "FPR  0.15625\n",
      "TNR  0.84375\n",
      "FNR  0.15519550080342795\n"
     ]
    }
   ],
   "source": [
    "# Calculating TPR , FPR , TNR , FNR\n",
    "TrueNeg,FalseNeg,FalsePos, TruePos = confusion_matrix(y_test, neigh.predict(X_test_tfidfw2v)).ravel()\n",
    "\n",
    "# TPR (TPR = TP/(FN+TP))\n",
    "TPR = TruePos/(FalseNeg + TruePos)\n",
    "print(\"TPR \" , TPR)\n",
    "\n",
    "# FPR (FPR = FP/(TN+FP))\n",
    "FPR = FalsePos/(TrueNeg + FalsePos)\n",
    "print(\"FPR \" , FPR)\n",
    "\n",
    "# TNR (TNR = TN/(TN+FP))\n",
    "TNR = TrueNeg/(TrueNeg + FalsePos)\n",
    "print(\"TNR \" , TNR)\n",
    "\n",
    "# FNR (FNR = TN/(FN+TP))\n",
    "FNR = FalseNeg/(FalseNeg + TruePos)\n",
    "print(\"FNR \" , FNR)\n"
   ]
  },
  {
   "cell_type": "markdown",
   "metadata": {
    "colab_type": "text",
    "id": "Yw9aQGgkjiFm"
   },
   "source": [
    "# [6] Conclusions"
   ]
  },
  {
   "cell_type": "code",
   "execution_count": 0,
   "metadata": {
    "colab": {},
    "colab_type": "code",
    "id": "_bD7ScpvjiFm"
   },
   "outputs": [],
   "source": [
    "# Please compare all your models using Prettytable library"
   ]
  },
  {
   "cell_type": "markdown",
   "metadata": {
    "colab_type": "text",
    "id": "fKV9URNFbopP"
   },
   "source": [
    "For Best Model , TPR and TNR shoud be high then FPR and FNR should be low."
   ]
  },
  {
   "cell_type": "markdown",
   "metadata": {
    "colab_type": "text",
    "id": "qenwgGBhaa_6"
   },
   "source": [
    "Taken some references from Github and sample notebook provided by AAIC."
   ]
  },
  {
   "cell_type": "code",
   "execution_count": 103,
   "metadata": {
    "colab": {
     "base_uri": "https://localhost:8080/",
     "height": 221
    },
    "colab_type": "code",
    "id": "nrV8eHF5cCtm",
    "outputId": "ba429793-db54-4e64-9e75-aefbf84466e8"
   },
   "outputs": [
    {
     "name": "stdout",
     "output_type": "stream",
     "text": [
      "+-------+---------------------------------------+--------+--------------------+--------------------+\n",
      "| S.NO. |                 MODEL                 | Best K | Training Accuracy  |   Test Accuracy    |\n",
      "+-------+---------------------------------------+--------+--------------------+--------------------+\n",
      "|   1   |       KNN using 'brute' for BoW       |   51   | 0.7911138692793209 | 0.7505817661547107 |\n",
      "|   2   |      KNN using 'brute' for TFIDF      |   51   | 0.833249488685096  | 0.7871014971948629 |\n",
      "|   3   |   KNN using 'brute' for Avg-Word2Vec  |   51   | 0.8299957665325153 | 0.7947566664405392 |\n",
      "|   4   |  KNN using 'brute' for TFIDF-Word2Vec |   51   |  0.80244669679576  | 0.7571917193570219 |\n",
      "|   5   |       KNN using 'kdTree' for BoW      |   51   | 0.8067773690923885 | 0.7759449142968248 |\n",
      "|   6   |      KNN using 'kdTree' for TFIDF     |   35   | 0.8302208000703746 | 0.7803568023306434 |\n",
      "|   7   |  KNN using 'kdTree' for Avg-Word2Vec  |   51   | 0.8299957665325153 | 0.7947566664405392 |\n",
      "|   8   | KNN using 'kdTree' for TFIDF-Word2Vec |   51   |  0.80244669679576  | 0.7571917193570219 |\n",
      "+-------+---------------------------------------+--------+--------------------+--------------------+\n"
     ]
    }
   ],
   "source": [
    "from prettytable import PrettyTable\n",
    "\n",
    "names = [\"KNN using 'brute' for BoW\",\"KNN using 'brute' for TFIDF\",\"KNN using 'brute' for Avg-Word2Vec\",\n",
    "         \"KNN using 'brute' for TFIDF-Word2Vec\",\"KNN using 'kdTree' for BoW\",\n",
    "        \"KNN using 'kdTree' for TFIDF\",  \"KNN using 'kdTree' for Avg-Word2Vec\",\n",
    "         \"KNN using 'kdTree' for TFIDF-Word2Vec\"]\n",
    "\n",
    "optimal_K = [best_k_bow, best_k_tfidf, best_k_AVGW2V,best_k_tfidfW2V,             \n",
    "            best_K_KD_BOW, best_k_KD_tfidf,\n",
    "            best_k_KD_AvgW2V,best_k_KD_tfidfw2v]\n",
    "\n",
    "train_acc = [train_BOW_Acc, train_tfidf_Acc,train_AVGW2V_Acc, train_tfidfW2V_Acc,\n",
    "             train_BOW_KD_Acc, train_tfidf_KD_Acc, train_KD_AvgW2V_Acc, train_tfidfw2v_KD_Acc]\n",
    "\n",
    "test_acc = [test_BOW_Acc, test_tfidf_Acc, test_AVGW2V_Acc,test_tfidfW2V_Acc,\n",
    "            test_BOW_KD_Acc, test_tfidf_KD_Acc, test_KD_AvgW2V_Acc, test_tfidfw2v_KD_Acc]\n",
    "\n",
    "numbering = [1,2,3,4,5,6,7,8]\n",
    "\n",
    "# Initializing prettytable\n",
    "ptable = PrettyTable()\n",
    "\n",
    "# Adding columns\n",
    "ptable.add_column(\"S.NO.\",numbering)\n",
    "ptable.add_column(\"MODEL\",names)\n",
    "ptable.add_column(\"Best K\",optimal_K)\n",
    "ptable.add_column(\"Training Accuracy\",train_acc)\n",
    "ptable.add_column(\"Test Accuracy\",test_acc)\n",
    "\n",
    "# Printing the Table\n",
    "print(ptable)"
   ]
  }
 ],
 "metadata": {
  "accelerator": "GPU",
  "colab": {
   "collapsed_sections": [],
   "name": "03_Amazon_Fine_Food_Reviews_Analysis_KNN_Org.ipynb",
   "provenance": [],
   "version": "0.3.2"
  },
  "kernelspec": {
   "display_name": "Python 3",
   "language": "python",
   "name": "python3"
  },
  "language_info": {
   "codemirror_mode": {
    "name": "ipython",
    "version": 3
   },
   "file_extension": ".py",
   "mimetype": "text/x-python",
   "name": "python",
   "nbconvert_exporter": "python",
   "pygments_lexer": "ipython3",
   "version": "3.6.5"
  }
 },
 "nbformat": 4,
 "nbformat_minor": 1
}
